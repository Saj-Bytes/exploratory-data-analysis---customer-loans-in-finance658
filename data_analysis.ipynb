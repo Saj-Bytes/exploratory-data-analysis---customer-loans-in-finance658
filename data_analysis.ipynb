{
 "cells": [
  {
   "cell_type": "code",
   "execution_count": 109,
   "metadata": {},
   "outputs": [],
   "source": [
    "import pandas as pd\n",
    "import plotly.express as px"
   ]
  },
  {
   "cell_type": "code",
   "execution_count": 367,
   "metadata": {},
   "outputs": [],
   "source": [
    "df = pd.read_pickle('df_cleaned.pkl')"
   ]
  },
  {
   "cell_type": "markdown",
   "metadata": {},
   "source": [
    "## Current State of Loans"
   ]
  },
  {
   "cell_type": "markdown",
   "metadata": {},
   "source": [
    "### Task 1 - Part 1: Current state of loans\n",
    "- We want to work out what percentage of the loans have been currently recovered compared to the total amount that is to be paid over the loans term.\n",
    "- We also want to work out how much will be paid back in 6 months time with interest\n",
    "- we will then visualise our results with a pie chart"
   ]
  },
  {
   "cell_type": "markdown",
   "metadata": {},
   "source": [
    "- First we work out the loans that have the loan_status as 'Fully Paid'"
   ]
  },
  {
   "cell_type": "code",
   "execution_count": 60,
   "metadata": {},
   "outputs": [
    {
     "data": {
      "text/html": [
       "<div>\n",
       "<style scoped>\n",
       "    .dataframe tbody tr th:only-of-type {\n",
       "        vertical-align: middle;\n",
       "    }\n",
       "\n",
       "    .dataframe tbody tr th {\n",
       "        vertical-align: top;\n",
       "    }\n",
       "\n",
       "    .dataframe thead th {\n",
       "        text-align: right;\n",
       "    }\n",
       "</style>\n",
       "<table border=\"1\" class=\"dataframe\">\n",
       "  <thead>\n",
       "    <tr style=\"text-align: right;\">\n",
       "      <th></th>\n",
       "      <th>member_id</th>\n",
       "      <th>loan_amount</th>\n",
       "      <th>term</th>\n",
       "      <th>int_rate</th>\n",
       "      <th>instalment</th>\n",
       "      <th>grade</th>\n",
       "      <th>sub_grade</th>\n",
       "      <th>employment_length</th>\n",
       "      <th>home_ownership</th>\n",
       "      <th>annual_inc</th>\n",
       "      <th>...</th>\n",
       "      <th>total_rec_late_fee</th>\n",
       "      <th>recoveries</th>\n",
       "      <th>collection_recovery_fee</th>\n",
       "      <th>last_payment_date</th>\n",
       "      <th>last_payment_amount</th>\n",
       "      <th>next_payment_date</th>\n",
       "      <th>last_credit_pull_date</th>\n",
       "      <th>collections_12_mths_ex_med</th>\n",
       "      <th>policy_code</th>\n",
       "      <th>application_type</th>\n",
       "    </tr>\n",
       "  </thead>\n",
       "  <tbody>\n",
       "    <tr>\n",
       "      <th>2</th>\n",
       "      <td>41439961</td>\n",
       "      <td>16000.0</td>\n",
       "      <td>36.0</td>\n",
       "      <td>7.49</td>\n",
       "      <td>497.63</td>\n",
       "      <td>A</td>\n",
       "      <td>A4</td>\n",
       "      <td>8</td>\n",
       "      <td>MORTGAGE</td>\n",
       "      <td>73913.0</td>\n",
       "      <td>...</td>\n",
       "      <td>0.000000</td>\n",
       "      <td>0.0</td>\n",
       "      <td>0.0</td>\n",
       "      <td>2021-10-01</td>\n",
       "      <td>12850.16</td>\n",
       "      <td>2021-11-01</td>\n",
       "      <td>2021-10-01</td>\n",
       "      <td>0.0</td>\n",
       "      <td>1</td>\n",
       "      <td>INDIVIDUAL</td>\n",
       "    </tr>\n",
       "    <tr>\n",
       "      <th>3</th>\n",
       "      <td>41439934</td>\n",
       "      <td>15000.0</td>\n",
       "      <td>36.0</td>\n",
       "      <td>14.31</td>\n",
       "      <td>514.93</td>\n",
       "      <td>C</td>\n",
       "      <td>C4</td>\n",
       "      <td>1</td>\n",
       "      <td>RENT</td>\n",
       "      <td>42000.0</td>\n",
       "      <td>...</td>\n",
       "      <td>0.000000</td>\n",
       "      <td>0.0</td>\n",
       "      <td>0.0</td>\n",
       "      <td>2021-06-01</td>\n",
       "      <td>13899.67</td>\n",
       "      <td>2021-07-01</td>\n",
       "      <td>2021-06-01</td>\n",
       "      <td>0.0</td>\n",
       "      <td>1</td>\n",
       "      <td>INDIVIDUAL</td>\n",
       "    </tr>\n",
       "    <tr>\n",
       "      <th>25</th>\n",
       "      <td>41439481</td>\n",
       "      <td>15050.0</td>\n",
       "      <td>60.0</td>\n",
       "      <td>24.99</td>\n",
       "      <td>441.65</td>\n",
       "      <td>F</td>\n",
       "      <td>F4</td>\n",
       "      <td>8</td>\n",
       "      <td>MORTGAGE</td>\n",
       "      <td>42000.0</td>\n",
       "      <td>...</td>\n",
       "      <td>0.000000</td>\n",
       "      <td>0.0</td>\n",
       "      <td>0.0</td>\n",
       "      <td>2021-05-01</td>\n",
       "      <td>15184.23</td>\n",
       "      <td>2021-06-01</td>\n",
       "      <td>2022-01-01</td>\n",
       "      <td>0.0</td>\n",
       "      <td>1</td>\n",
       "      <td>INDIVIDUAL</td>\n",
       "    </tr>\n",
       "    <tr>\n",
       "      <th>38</th>\n",
       "      <td>41439196</td>\n",
       "      <td>25000.0</td>\n",
       "      <td>36.0</td>\n",
       "      <td>17.14</td>\n",
       "      <td>893.07</td>\n",
       "      <td>D</td>\n",
       "      <td>D4</td>\n",
       "      <td>&lt; 1</td>\n",
       "      <td>MORTGAGE</td>\n",
       "      <td>84000.0</td>\n",
       "      <td>...</td>\n",
       "      <td>0.000000</td>\n",
       "      <td>0.0</td>\n",
       "      <td>0.0</td>\n",
       "      <td>2021-09-01</td>\n",
       "      <td>21657.76</td>\n",
       "      <td>2021-10-01</td>\n",
       "      <td>2022-01-01</td>\n",
       "      <td>0.0</td>\n",
       "      <td>1</td>\n",
       "      <td>INDIVIDUAL</td>\n",
       "    </tr>\n",
       "    <tr>\n",
       "      <th>40</th>\n",
       "      <td>41439092</td>\n",
       "      <td>14300.0</td>\n",
       "      <td>60.0</td>\n",
       "      <td>18.54</td>\n",
       "      <td>367.34</td>\n",
       "      <td>E</td>\n",
       "      <td>E1</td>\n",
       "      <td>2</td>\n",
       "      <td>MORTGAGE</td>\n",
       "      <td>28700.0</td>\n",
       "      <td>...</td>\n",
       "      <td>0.000000</td>\n",
       "      <td>0.0</td>\n",
       "      <td>0.0</td>\n",
       "      <td>2021-10-01</td>\n",
       "      <td>13457.90</td>\n",
       "      <td>2021-11-01</td>\n",
       "      <td>2021-11-01</td>\n",
       "      <td>0.0</td>\n",
       "      <td>1</td>\n",
       "      <td>INDIVIDUAL</td>\n",
       "    </tr>\n",
       "    <tr>\n",
       "      <th>...</th>\n",
       "      <td>...</td>\n",
       "      <td>...</td>\n",
       "      <td>...</td>\n",
       "      <td>...</td>\n",
       "      <td>...</td>\n",
       "      <td>...</td>\n",
       "      <td>...</td>\n",
       "      <td>...</td>\n",
       "      <td>...</td>\n",
       "      <td>...</td>\n",
       "      <td>...</td>\n",
       "      <td>...</td>\n",
       "      <td>...</td>\n",
       "      <td>...</td>\n",
       "      <td>...</td>\n",
       "      <td>...</td>\n",
       "      <td>...</td>\n",
       "      <td>...</td>\n",
       "      <td>...</td>\n",
       "      <td>...</td>\n",
       "      <td>...</td>\n",
       "    </tr>\n",
       "    <tr>\n",
       "      <th>54199</th>\n",
       "      <td>107577</td>\n",
       "      <td>1000.0</td>\n",
       "      <td>36.0</td>\n",
       "      <td>16.08</td>\n",
       "      <td>35.20</td>\n",
       "      <td>F</td>\n",
       "      <td>F2</td>\n",
       "      <td>&lt; 1</td>\n",
       "      <td>RENT</td>\n",
       "      <td>30000.0</td>\n",
       "      <td>...</td>\n",
       "      <td>0.000000</td>\n",
       "      <td>0.0</td>\n",
       "      <td>0.0</td>\n",
       "      <td>2016-03-01</td>\n",
       "      <td>538.97</td>\n",
       "      <td>2016-04-01</td>\n",
       "      <td>2016-03-01</td>\n",
       "      <td>0.0</td>\n",
       "      <td>1</td>\n",
       "      <td>INDIVIDUAL</td>\n",
       "    </tr>\n",
       "    <tr>\n",
       "      <th>54203</th>\n",
       "      <td>105254</td>\n",
       "      <td>6000.0</td>\n",
       "      <td>36.0</td>\n",
       "      <td>9.64</td>\n",
       "      <td>192.60</td>\n",
       "      <td>B</td>\n",
       "      <td>B4</td>\n",
       "      <td>1</td>\n",
       "      <td>RENT</td>\n",
       "      <td>18000.0</td>\n",
       "      <td>...</td>\n",
       "      <td>0.000000</td>\n",
       "      <td>0.0</td>\n",
       "      <td>0.0</td>\n",
       "      <td>2016-12-01</td>\n",
       "      <td>193.55</td>\n",
       "      <td>2017-01-01</td>\n",
       "      <td>2016-12-01</td>\n",
       "      <td>0.0</td>\n",
       "      <td>1</td>\n",
       "      <td>INDIVIDUAL</td>\n",
       "    </tr>\n",
       "    <tr>\n",
       "      <th>54204</th>\n",
       "      <td>104675</td>\n",
       "      <td>4000.0</td>\n",
       "      <td>36.0</td>\n",
       "      <td>7.75</td>\n",
       "      <td>124.89</td>\n",
       "      <td>A</td>\n",
       "      <td>A3</td>\n",
       "      <td>1</td>\n",
       "      <td>OWN</td>\n",
       "      <td>61800.0</td>\n",
       "      <td>...</td>\n",
       "      <td>0.000000</td>\n",
       "      <td>0.0</td>\n",
       "      <td>0.0</td>\n",
       "      <td>2016-09-01</td>\n",
       "      <td>126.29</td>\n",
       "      <td>2016-10-01</td>\n",
       "      <td>2016-08-01</td>\n",
       "      <td>0.0</td>\n",
       "      <td>1</td>\n",
       "      <td>INDIVIDUAL</td>\n",
       "    </tr>\n",
       "    <tr>\n",
       "      <th>54221</th>\n",
       "      <td>91027</td>\n",
       "      <td>5500.0</td>\n",
       "      <td>36.0</td>\n",
       "      <td>13.16</td>\n",
       "      <td>185.74</td>\n",
       "      <td>C</td>\n",
       "      <td>C3</td>\n",
       "      <td>&lt; 1</td>\n",
       "      <td>RENT</td>\n",
       "      <td>21000.0</td>\n",
       "      <td>...</td>\n",
       "      <td>0.000000</td>\n",
       "      <td>0.0</td>\n",
       "      <td>0.0</td>\n",
       "      <td>2016-10-01</td>\n",
       "      <td>85.66</td>\n",
       "      <td>2016-11-01</td>\n",
       "      <td>2021-04-01</td>\n",
       "      <td>0.0</td>\n",
       "      <td>1</td>\n",
       "      <td>INDIVIDUAL</td>\n",
       "    </tr>\n",
       "    <tr>\n",
       "      <th>54227</th>\n",
       "      <td>74724</td>\n",
       "      <td>5000.0</td>\n",
       "      <td>36.0</td>\n",
       "      <td>10.59</td>\n",
       "      <td>162.73</td>\n",
       "      <td>C</td>\n",
       "      <td>C2</td>\n",
       "      <td>&lt; 1</td>\n",
       "      <td>RENT</td>\n",
       "      <td>15000.0</td>\n",
       "      <td>...</td>\n",
       "      <td>104.942381</td>\n",
       "      <td>0.0</td>\n",
       "      <td>0.0</td>\n",
       "      <td>2016-10-01</td>\n",
       "      <td>490.01</td>\n",
       "      <td>2016-11-01</td>\n",
       "      <td>2016-09-01</td>\n",
       "      <td>0.0</td>\n",
       "      <td>1</td>\n",
       "      <td>INDIVIDUAL</td>\n",
       "    </tr>\n",
       "  </tbody>\n",
       "</table>\n",
       "<p>27184 rows × 34 columns</p>\n",
       "</div>"
      ],
      "text/plain": [
       "       member_id  loan_amount  term  int_rate  instalment grade sub_grade  \\\n",
       "2       41439961      16000.0  36.0      7.49      497.63     A        A4   \n",
       "3       41439934      15000.0  36.0     14.31      514.93     C        C4   \n",
       "25      41439481      15050.0  60.0     24.99      441.65     F        F4   \n",
       "38      41439196      25000.0  36.0     17.14      893.07     D        D4   \n",
       "40      41439092      14300.0  60.0     18.54      367.34     E        E1   \n",
       "...          ...          ...   ...       ...         ...   ...       ...   \n",
       "54199     107577       1000.0  36.0     16.08       35.20     F        F2   \n",
       "54203     105254       6000.0  36.0      9.64      192.60     B        B4   \n",
       "54204     104675       4000.0  36.0      7.75      124.89     A        A3   \n",
       "54221      91027       5500.0  36.0     13.16      185.74     C        C3   \n",
       "54227      74724       5000.0  36.0     10.59      162.73     C        C2   \n",
       "\n",
       "      employment_length home_ownership  annual_inc  ... total_rec_late_fee  \\\n",
       "2                     8       MORTGAGE     73913.0  ...           0.000000   \n",
       "3                     1           RENT     42000.0  ...           0.000000   \n",
       "25                    8       MORTGAGE     42000.0  ...           0.000000   \n",
       "38                  < 1       MORTGAGE     84000.0  ...           0.000000   \n",
       "40                    2       MORTGAGE     28700.0  ...           0.000000   \n",
       "...                 ...            ...         ...  ...                ...   \n",
       "54199               < 1           RENT     30000.0  ...           0.000000   \n",
       "54203                 1           RENT     18000.0  ...           0.000000   \n",
       "54204                 1            OWN     61800.0  ...           0.000000   \n",
       "54221               < 1           RENT     21000.0  ...           0.000000   \n",
       "54227               < 1           RENT     15000.0  ...         104.942381   \n",
       "\n",
       "      recoveries collection_recovery_fee last_payment_date  \\\n",
       "2            0.0                     0.0        2021-10-01   \n",
       "3            0.0                     0.0        2021-06-01   \n",
       "25           0.0                     0.0        2021-05-01   \n",
       "38           0.0                     0.0        2021-09-01   \n",
       "40           0.0                     0.0        2021-10-01   \n",
       "...          ...                     ...               ...   \n",
       "54199        0.0                     0.0        2016-03-01   \n",
       "54203        0.0                     0.0        2016-12-01   \n",
       "54204        0.0                     0.0        2016-09-01   \n",
       "54221        0.0                     0.0        2016-10-01   \n",
       "54227        0.0                     0.0        2016-10-01   \n",
       "\n",
       "      last_payment_amount  next_payment_date  last_credit_pull_date  \\\n",
       "2                12850.16         2021-11-01             2021-10-01   \n",
       "3                13899.67         2021-07-01             2021-06-01   \n",
       "25               15184.23         2021-06-01             2022-01-01   \n",
       "38               21657.76         2021-10-01             2022-01-01   \n",
       "40               13457.90         2021-11-01             2021-11-01   \n",
       "...                   ...                ...                    ...   \n",
       "54199              538.97         2016-04-01             2016-03-01   \n",
       "54203              193.55         2017-01-01             2016-12-01   \n",
       "54204              126.29         2016-10-01             2016-08-01   \n",
       "54221               85.66         2016-11-01             2021-04-01   \n",
       "54227              490.01         2016-11-01             2016-09-01   \n",
       "\n",
       "      collections_12_mths_ex_med  policy_code  application_type  \n",
       "2                            0.0            1        INDIVIDUAL  \n",
       "3                            0.0            1        INDIVIDUAL  \n",
       "25                           0.0            1        INDIVIDUAL  \n",
       "38                           0.0            1        INDIVIDUAL  \n",
       "40                           0.0            1        INDIVIDUAL  \n",
       "...                          ...          ...               ...  \n",
       "54199                        0.0            1        INDIVIDUAL  \n",
       "54203                        0.0            1        INDIVIDUAL  \n",
       "54204                        0.0            1        INDIVIDUAL  \n",
       "54221                        0.0            1        INDIVIDUAL  \n",
       "54227                        0.0            1        INDIVIDUAL  \n",
       "\n",
       "[27184 rows x 34 columns]"
      ]
     },
     "execution_count": 60,
     "metadata": {},
     "output_type": "execute_result"
    }
   ],
   "source": [
    "#loans recovered that have the status 'Fully Paid'\n",
    "loans_recovered = df['loan_status'].str.contains('Fully Paid', case=False) #case=False to get all all case types \n",
    "df[loans_recovered]"
   ]
  },
  {
   "cell_type": "markdown",
   "metadata": {},
   "source": [
    "- Number of loans recovered"
   ]
  },
  {
   "cell_type": "code",
   "execution_count": 380,
   "metadata": {},
   "outputs": [
    {
     "name": "stdout",
     "output_type": "stream",
     "text": [
      "Number of loans recovered: 27184\n"
     ]
    }
   ],
   "source": [
    "no_of_loans_recovered = len(df[loans_recovered])\n",
    "print(f\"Number of loans recovered: {no_of_loans_recovered}\")"
   ]
  },
  {
   "cell_type": "markdown",
   "metadata": {},
   "source": [
    "- Total number of loans"
   ]
  },
  {
   "cell_type": "code",
   "execution_count": 381,
   "metadata": {},
   "outputs": [
    {
     "name": "stdout",
     "output_type": "stream",
     "text": [
      "Total Number of loans: 51986\n"
     ]
    }
   ],
   "source": [
    "total_loans = len(df)\n",
    "print(f\"Total Number of loans: {total_loans}\")"
   ]
  },
  {
   "cell_type": "markdown",
   "metadata": {},
   "source": [
    "- Percentage of loans recovered"
   ]
  },
  {
   "cell_type": "code",
   "execution_count": 73,
   "metadata": {},
   "outputs": [
    {
     "name": "stdout",
     "output_type": "stream",
     "text": [
      "Percentage of loans recovered: 52.29%\n"
     ]
    }
   ],
   "source": [
    "loans_recovered_prcnt = round((no_of_loans_recovered / total_loans)*100, 2)\n",
    "print(f\"Percentage of loans recovered: {loans_recovered_prcnt}%\")"
   ]
  },
  {
   "cell_type": "markdown",
   "metadata": {},
   "source": [
    "### Task 1 - Part 2: \n",
    "- We will calculate how much will be paid back in 6 months time with interest and show this on a pie chart."
   ]
  },
  {
   "cell_type": "markdown",
   "metadata": {},
   "source": [
    "- Loans that are left to be paid"
   ]
  },
  {
   "cell_type": "code",
   "execution_count": 382,
   "metadata": {},
   "outputs": [
    {
     "data": {
      "text/plain": [
       "24802"
      ]
     },
     "execution_count": 382,
     "metadata": {},
     "output_type": "execute_result"
    }
   ],
   "source": [
    "loans_not_recovered = ~df['loan_status'].str.contains('Fully Paid', case=False)\n",
    "len(df[loans_not_recovered])"
   ]
  },
  {
   "cell_type": "code",
   "execution_count": 383,
   "metadata": {},
   "outputs": [],
   "source": [
    "loans_not_recovered_df = df[loans_not_recovered]"
   ]
  },
  {
   "cell_type": "markdown",
   "metadata": {},
   "source": [
    "- Sum of one month of all installments"
   ]
  },
  {
   "cell_type": "code",
   "execution_count": 384,
   "metadata": {},
   "outputs": [
    {
     "data": {
      "text/plain": [
       "10823962.02"
      ]
     },
     "execution_count": 384,
     "metadata": {},
     "output_type": "execute_result"
    }
   ],
   "source": [
    "total_monthly_installment = sum(loans_not_recovered_df['instalment'])\n",
    "total_monthly_installment"
   ]
  },
  {
   "cell_type": "markdown",
   "metadata": {},
   "source": [
    "- Sum of next 6 months installments"
   ]
  },
  {
   "cell_type": "code",
   "execution_count": 108,
   "metadata": {},
   "outputs": [
    {
     "name": "stdout",
     "output_type": "stream",
     "text": [
      "The total installments for the next 6 months is: £64943772.12\n"
     ]
    }
   ],
   "source": [
    "six_month_installment = sum(loans_not_recovered_df['instalment'])*6\n",
    "print(f\"The total installments for the next 6 months is: £{six_month_installment}\")"
   ]
  },
  {
   "cell_type": "markdown",
   "metadata": {},
   "source": [
    "### Task 1 - Part 3: Visualising the data in a Pie Chart"
   ]
  },
  {
   "cell_type": "markdown",
   "metadata": {},
   "source": [
    "#### Loans Recovered v Loans Remaining"
   ]
  },
  {
   "cell_type": "code",
   "execution_count": 111,
   "metadata": {},
   "outputs": [],
   "source": [
    "import matplotlib.pyplot as plt"
   ]
  },
  {
   "cell_type": "markdown",
   "metadata": {},
   "source": [
    "- Pie chart for Loans recovered vs Loans remaining"
   ]
  },
  {
   "cell_type": "code",
   "execution_count": 218,
   "metadata": {},
   "outputs": [
    {
     "data": {
      "image/png": "[encoded data removed]",
      "text/plain": [
       "<Figure size 800x600 with 1 Axes>"
      ]
     },
     "metadata": {},
     "output_type": "display_data"
    }
   ],
   "source": [
    "#pie chart preparation\n",
    "labels = 'Loans Recovered', 'Loans Remaining'\n",
    "plot = [len(df[loans_recovered]), len(df[loans_not_recovered])]\n",
    "explode = (0.1, 0)  # explode 1st slice\n",
    "\n",
    "plt.figure(figsize=(8, 6))\n",
    "plt.pie(plot, explode=explode, labels=labels, autopct='%1.1f%%',\n",
    "        shadow=True, startangle=140)\n",
    "plt.axis('equal')  # Equal aspect ratio ensures pie chart is drawn as a circle\n",
    "\n",
    "plt.title('Percentage of Loans Recovered vs Loans Remaining')\n",
    "plt.show()"
   ]
  },
  {
   "cell_type": "markdown",
   "metadata": {},
   "source": [
    "### Task 2 - Calculating Loss"
   ]
  },
  {
   "cell_type": "markdown",
   "metadata": {},
   "source": [
    "The company wants to check what percentage of loans have been a loss to the company:\n",
    "Loans marked as Charged Off in the loan_status column represent a loss to the company.\n",
    "Calculate the percentage of charged off loans and the total amount that was paid towards these loans before being charged off."
   ]
  },
  {
   "cell_type": "code",
   "execution_count": 153,
   "metadata": {},
   "outputs": [],
   "source": [
    "loss_loans = df['loan_status'].str.contains('Charged Off', case=False)\n",
    "total_loss_loans = len(df[loss_loans])"
   ]
  },
  {
   "cell_type": "code",
   "execution_count": 147,
   "metadata": {},
   "outputs": [
    {
     "data": {
      "text/html": [
       "<div>\n",
       "<style scoped>\n",
       "    .dataframe tbody tr th:only-of-type {\n",
       "        vertical-align: middle;\n",
       "    }\n",
       "\n",
       "    .dataframe tbody tr th {\n",
       "        vertical-align: top;\n",
       "    }\n",
       "\n",
       "    .dataframe thead th {\n",
       "        text-align: right;\n",
       "    }\n",
       "</style>\n",
       "<table border=\"1\" class=\"dataframe\">\n",
       "  <thead>\n",
       "    <tr style=\"text-align: right;\">\n",
       "      <th></th>\n",
       "      <th>loan_status</th>\n",
       "      <th>total_payment</th>\n",
       "    </tr>\n",
       "  </thead>\n",
       "  <tbody>\n",
       "    <tr>\n",
       "      <th>7</th>\n",
       "      <td>Charged Off</td>\n",
       "      <td>4182.270000</td>\n",
       "    </tr>\n",
       "    <tr>\n",
       "      <th>56</th>\n",
       "      <td>Charged Off</td>\n",
       "      <td>1906.510000</td>\n",
       "    </tr>\n",
       "    <tr>\n",
       "      <th>83</th>\n",
       "      <td>Charged Off</td>\n",
       "      <td>282.780000</td>\n",
       "    </tr>\n",
       "    <tr>\n",
       "      <th>90</th>\n",
       "      <td>Charged Off</td>\n",
       "      <td>1808.050000</td>\n",
       "    </tr>\n",
       "    <tr>\n",
       "      <th>117</th>\n",
       "      <td>Charged Off</td>\n",
       "      <td>1654.140000</td>\n",
       "    </tr>\n",
       "    <tr>\n",
       "      <th>...</th>\n",
       "      <td>...</td>\n",
       "      <td>...</td>\n",
       "    </tr>\n",
       "    <tr>\n",
       "      <th>54148</th>\n",
       "      <td>Does not meet the credit policy. Status:Charge...</td>\n",
       "      <td>39473.920000</td>\n",
       "    </tr>\n",
       "    <tr>\n",
       "      <th>54149</th>\n",
       "      <td>Does not meet the credit policy. Status:Charge...</td>\n",
       "      <td>2042.920000</td>\n",
       "    </tr>\n",
       "    <tr>\n",
       "      <th>54152</th>\n",
       "      <td>Charged Off</td>\n",
       "      <td>7294.650000</td>\n",
       "    </tr>\n",
       "    <tr>\n",
       "      <th>54156</th>\n",
       "      <td>Charged Off</td>\n",
       "      <td>2580.248838</td>\n",
       "    </tr>\n",
       "    <tr>\n",
       "      <th>54190</th>\n",
       "      <td>Does not meet the credit policy. Status:Charge...</td>\n",
       "      <td>3104.780000</td>\n",
       "    </tr>\n",
       "  </tbody>\n",
       "</table>\n",
       "<p>5574 rows × 2 columns</p>\n",
       "</div>"
      ],
      "text/plain": [
       "                                             loan_status  total_payment\n",
       "7                                            Charged Off    4182.270000\n",
       "56                                           Charged Off    1906.510000\n",
       "83                                           Charged Off     282.780000\n",
       "90                                           Charged Off    1808.050000\n",
       "117                                          Charged Off    1654.140000\n",
       "...                                                  ...            ...\n",
       "54148  Does not meet the credit policy. Status:Charge...   39473.920000\n",
       "54149  Does not meet the credit policy. Status:Charge...    2042.920000\n",
       "54152                                        Charged Off    7294.650000\n",
       "54156                                        Charged Off    2580.248838\n",
       "54190  Does not meet the credit policy. Status:Charge...    3104.780000\n",
       "\n",
       "[5574 rows x 2 columns]"
      ]
     },
     "execution_count": 147,
     "metadata": {},
     "output_type": "execute_result"
    }
   ],
   "source": [
    "cols_to_check = ['loan_status', 'total_payment']\n",
    "df[loss_loans][cols_to_check]"
   ]
  },
  {
   "cell_type": "markdown",
   "metadata": {},
   "source": [
    "- Percentage of charged off loans "
   ]
  },
  {
   "cell_type": "code",
   "execution_count": 158,
   "metadata": {},
   "outputs": [
    {
     "name": "stdout",
     "output_type": "stream",
     "text": [
      "The percentage of loans that were losses: 10.72%\n"
     ]
    }
   ],
   "source": [
    "loss_loan_prcnt = round((total_loss_loans/total_loans)*100,2)\n",
    "print(f\"The percentage of loans that were losses: {loss_loan_prcnt}%\")"
   ]
  },
  {
   "cell_type": "markdown",
   "metadata": {},
   "source": [
    "- Total sum of payment received to date for the loans before they were charged off"
   ]
  },
  {
   "cell_type": "code",
   "execution_count": 159,
   "metadata": {},
   "outputs": [
    {
     "name": "stdout",
     "output_type": "stream",
     "text": [
      "Total sum received to date of loans that have been a loss: £37670375.31\n"
     ]
    }
   ],
   "source": [
    "sum_of_payment_rec = round(sum(df[loss_loans]['total_payment']),2)\n",
    "print(f\"Total sum received to date of loans that have been a loss: £{sum_of_payment_rec}\")"
   ]
  },
  {
   "cell_type": "markdown",
   "metadata": {},
   "source": [
    "### Task 3 - Calculating Projected Loss"
   ]
  },
  {
   "cell_type": "code",
   "execution_count": 168,
   "metadata": {},
   "outputs": [
    {
     "data": {
      "text/html": [
       "<div>\n",
       "<style scoped>\n",
       "    .dataframe tbody tr th:only-of-type {\n",
       "        vertical-align: middle;\n",
       "    }\n",
       "\n",
       "    .dataframe tbody tr th {\n",
       "        vertical-align: top;\n",
       "    }\n",
       "\n",
       "    .dataframe thead th {\n",
       "        text-align: right;\n",
       "    }\n",
       "</style>\n",
       "<table border=\"1\" class=\"dataframe\">\n",
       "  <thead>\n",
       "    <tr style=\"text-align: right;\">\n",
       "      <th></th>\n",
       "      <th>total_accounts</th>\n",
       "      <th>out_prncp</th>\n",
       "      <th>total_payment</th>\n",
       "      <th>total_rec_int</th>\n",
       "      <th>total_rec_late_fee</th>\n",
       "      <th>recoveries</th>\n",
       "      <th>collection_recovery_fee</th>\n",
       "      <th>last_payment_date</th>\n",
       "      <th>last_payment_amount</th>\n",
       "      <th>next_payment_date</th>\n",
       "      <th>last_credit_pull_date</th>\n",
       "      <th>collections_12_mths_ex_med</th>\n",
       "      <th>policy_code</th>\n",
       "      <th>application_type</th>\n",
       "    </tr>\n",
       "  </thead>\n",
       "  <tbody>\n",
       "    <tr>\n",
       "      <th>7</th>\n",
       "      <td>37</td>\n",
       "      <td>0.0</td>\n",
       "      <td>4182.27</td>\n",
       "      <td>2984.92</td>\n",
       "      <td>0.0</td>\n",
       "      <td>0.00</td>\n",
       "      <td>0.0000</td>\n",
       "      <td>2021-08-01</td>\n",
       "      <td>701.95</td>\n",
       "      <td>2021-09-01</td>\n",
       "      <td>2022-01-01</td>\n",
       "      <td>0.0</td>\n",
       "      <td>1</td>\n",
       "      <td>INDIVIDUAL</td>\n",
       "    </tr>\n",
       "    <tr>\n",
       "      <th>56</th>\n",
       "      <td>36</td>\n",
       "      <td>0.0</td>\n",
       "      <td>1906.51</td>\n",
       "      <td>1020.99</td>\n",
       "      <td>0.0</td>\n",
       "      <td>0.00</td>\n",
       "      <td>0.0000</td>\n",
       "      <td>2021-08-01</td>\n",
       "      <td>275.29</td>\n",
       "      <td>2021-09-01</td>\n",
       "      <td>2022-01-01</td>\n",
       "      <td>0.0</td>\n",
       "      <td>1</td>\n",
       "      <td>INDIVIDUAL</td>\n",
       "    </tr>\n",
       "    <tr>\n",
       "      <th>83</th>\n",
       "      <td>28</td>\n",
       "      <td>0.0</td>\n",
       "      <td>282.78</td>\n",
       "      <td>106.09</td>\n",
       "      <td>0.0</td>\n",
       "      <td>0.00</td>\n",
       "      <td>0.0000</td>\n",
       "      <td>2021-07-01</td>\n",
       "      <td>47.34</td>\n",
       "      <td>2021-08-01</td>\n",
       "      <td>2022-01-01</td>\n",
       "      <td>0.0</td>\n",
       "      <td>1</td>\n",
       "      <td>INDIVIDUAL</td>\n",
       "    </tr>\n",
       "    <tr>\n",
       "      <th>90</th>\n",
       "      <td>13</td>\n",
       "      <td>0.0</td>\n",
       "      <td>1808.05</td>\n",
       "      <td>762.85</td>\n",
       "      <td>0.0</td>\n",
       "      <td>0.00</td>\n",
       "      <td>0.0000</td>\n",
       "      <td>2021-07-01</td>\n",
       "      <td>302.85</td>\n",
       "      <td>2021-08-01</td>\n",
       "      <td>2021-12-01</td>\n",
       "      <td>0.0</td>\n",
       "      <td>1</td>\n",
       "      <td>INDIVIDUAL</td>\n",
       "    </tr>\n",
       "    <tr>\n",
       "      <th>117</th>\n",
       "      <td>19</td>\n",
       "      <td>0.0</td>\n",
       "      <td>1654.14</td>\n",
       "      <td>139.72</td>\n",
       "      <td>0.0</td>\n",
       "      <td>1192.58</td>\n",
       "      <td>214.6644</td>\n",
       "      <td>2021-03-01</td>\n",
       "      <td>235.83</td>\n",
       "      <td>2021-04-01</td>\n",
       "      <td>2021-08-01</td>\n",
       "      <td>0.0</td>\n",
       "      <td>1</td>\n",
       "      <td>INDIVIDUAL</td>\n",
       "    </tr>\n",
       "    <tr>\n",
       "      <th>138</th>\n",
       "      <td>28</td>\n",
       "      <td>0.0</td>\n",
       "      <td>1294.64</td>\n",
       "      <td>238.29</td>\n",
       "      <td>0.0</td>\n",
       "      <td>0.00</td>\n",
       "      <td>0.0000</td>\n",
       "      <td>2021-04-01</td>\n",
       "      <td>435.43</td>\n",
       "      <td>2021-05-01</td>\n",
       "      <td>2022-01-01</td>\n",
       "      <td>0.0</td>\n",
       "      <td>1</td>\n",
       "      <td>INDIVIDUAL</td>\n",
       "    </tr>\n",
       "    <tr>\n",
       "      <th>149</th>\n",
       "      <td>22</td>\n",
       "      <td>0.0</td>\n",
       "      <td>4113.33</td>\n",
       "      <td>2010.46</td>\n",
       "      <td>41.0</td>\n",
       "      <td>0.00</td>\n",
       "      <td>0.0000</td>\n",
       "      <td>2021-07-01</td>\n",
       "      <td>861.03</td>\n",
       "      <td>2021-08-01</td>\n",
       "      <td>2021-12-01</td>\n",
       "      <td>0.0</td>\n",
       "      <td>1</td>\n",
       "      <td>INDIVIDUAL</td>\n",
       "    </tr>\n",
       "    <tr>\n",
       "      <th>190</th>\n",
       "      <td>31</td>\n",
       "      <td>0.0</td>\n",
       "      <td>1432.79</td>\n",
       "      <td>657.23</td>\n",
       "      <td>0.0</td>\n",
       "      <td>0.00</td>\n",
       "      <td>0.0000</td>\n",
       "      <td>2021-05-01</td>\n",
       "      <td>363.97</td>\n",
       "      <td>2021-06-01</td>\n",
       "      <td>2022-01-01</td>\n",
       "      <td>0.0</td>\n",
       "      <td>1</td>\n",
       "      <td>INDIVIDUAL</td>\n",
       "    </tr>\n",
       "    <tr>\n",
       "      <th>209</th>\n",
       "      <td>17</td>\n",
       "      <td>0.0</td>\n",
       "      <td>521.75</td>\n",
       "      <td>183.60</td>\n",
       "      <td>0.0</td>\n",
       "      <td>0.00</td>\n",
       "      <td>0.0000</td>\n",
       "      <td>2021-06-01</td>\n",
       "      <td>104.87</td>\n",
       "      <td>2021-07-01</td>\n",
       "      <td>2021-12-01</td>\n",
       "      <td>0.0</td>\n",
       "      <td>1</td>\n",
       "      <td>INDIVIDUAL</td>\n",
       "    </tr>\n",
       "    <tr>\n",
       "      <th>314</th>\n",
       "      <td>8</td>\n",
       "      <td>0.0</td>\n",
       "      <td>2884.14</td>\n",
       "      <td>555.95</td>\n",
       "      <td>0.0</td>\n",
       "      <td>2001.44</td>\n",
       "      <td>360.2592</td>\n",
       "      <td>2021-04-01</td>\n",
       "      <td>302.94</td>\n",
       "      <td>2021-05-01</td>\n",
       "      <td>2021-09-01</td>\n",
       "      <td>0.0</td>\n",
       "      <td>1</td>\n",
       "      <td>INDIVIDUAL</td>\n",
       "    </tr>\n",
       "  </tbody>\n",
       "</table>\n",
       "</div>"
      ],
      "text/plain": [
       "     total_accounts  out_prncp  total_payment  total_rec_int  \\\n",
       "7                37        0.0        4182.27        2984.92   \n",
       "56               36        0.0        1906.51        1020.99   \n",
       "83               28        0.0         282.78         106.09   \n",
       "90               13        0.0        1808.05         762.85   \n",
       "117              19        0.0        1654.14         139.72   \n",
       "138              28        0.0        1294.64         238.29   \n",
       "149              22        0.0        4113.33        2010.46   \n",
       "190              31        0.0        1432.79         657.23   \n",
       "209              17        0.0         521.75         183.60   \n",
       "314               8        0.0        2884.14         555.95   \n",
       "\n",
       "     total_rec_late_fee  recoveries  collection_recovery_fee  \\\n",
       "7                   0.0        0.00                   0.0000   \n",
       "56                  0.0        0.00                   0.0000   \n",
       "83                  0.0        0.00                   0.0000   \n",
       "90                  0.0        0.00                   0.0000   \n",
       "117                 0.0     1192.58                 214.6644   \n",
       "138                 0.0        0.00                   0.0000   \n",
       "149                41.0        0.00                   0.0000   \n",
       "190                 0.0        0.00                   0.0000   \n",
       "209                 0.0        0.00                   0.0000   \n",
       "314                 0.0     2001.44                 360.2592   \n",
       "\n",
       "    last_payment_date  last_payment_amount next_payment_date  \\\n",
       "7          2021-08-01               701.95        2021-09-01   \n",
       "56         2021-08-01               275.29        2021-09-01   \n",
       "83         2021-07-01                47.34        2021-08-01   \n",
       "90         2021-07-01               302.85        2021-08-01   \n",
       "117        2021-03-01               235.83        2021-04-01   \n",
       "138        2021-04-01               435.43        2021-05-01   \n",
       "149        2021-07-01               861.03        2021-08-01   \n",
       "190        2021-05-01               363.97        2021-06-01   \n",
       "209        2021-06-01               104.87        2021-07-01   \n",
       "314        2021-04-01               302.94        2021-05-01   \n",
       "\n",
       "    last_credit_pull_date  collections_12_mths_ex_med  policy_code  \\\n",
       "7              2022-01-01                         0.0            1   \n",
       "56             2022-01-01                         0.0            1   \n",
       "83             2022-01-01                         0.0            1   \n",
       "90             2021-12-01                         0.0            1   \n",
       "117            2021-08-01                         0.0            1   \n",
       "138            2022-01-01                         0.0            1   \n",
       "149            2021-12-01                         0.0            1   \n",
       "190            2022-01-01                         0.0            1   \n",
       "209            2021-12-01                         0.0            1   \n",
       "314            2021-09-01                         0.0            1   \n",
       "\n",
       "    application_type  \n",
       "7         INDIVIDUAL  \n",
       "56        INDIVIDUAL  \n",
       "83        INDIVIDUAL  \n",
       "90        INDIVIDUAL  \n",
       "117       INDIVIDUAL  \n",
       "138       INDIVIDUAL  \n",
       "149       INDIVIDUAL  \n",
       "190       INDIVIDUAL  \n",
       "209       INDIVIDUAL  \n",
       "314       INDIVIDUAL  "
      ]
     },
     "execution_count": 168,
     "metadata": {},
     "output_type": "execute_result"
    }
   ],
   "source": [
    "df[loss_loans].iloc[0:10, 20:40]"
   ]
  },
  {
   "cell_type": "markdown",
   "metadata": {},
   "source": [
    "- Creating a copy of only certain columns \n",
    "    - We are creating a new dataframe with only certain columns\n",
    "    - we will use these columns to create new columns for totals"
   ]
  },
  {
   "cell_type": "code",
   "execution_count": 204,
   "metadata": {},
   "outputs": [
    {
     "data": {
      "text/html": [
       "<div>\n",
       "<style scoped>\n",
       "    .dataframe tbody tr th:only-of-type {\n",
       "        vertical-align: middle;\n",
       "    }\n",
       "\n",
       "    .dataframe tbody tr th {\n",
       "        vertical-align: top;\n",
       "    }\n",
       "\n",
       "    .dataframe thead th {\n",
       "        text-align: right;\n",
       "    }\n",
       "</style>\n",
       "<table border=\"1\" class=\"dataframe\">\n",
       "  <thead>\n",
       "    <tr style=\"text-align: right;\">\n",
       "      <th></th>\n",
       "      <th>int_rate</th>\n",
       "      <th>term</th>\n",
       "      <th>loan_amount</th>\n",
       "      <th>loan_status</th>\n",
       "      <th>total_payment</th>\n",
       "    </tr>\n",
       "  </thead>\n",
       "  <tbody>\n",
       "    <tr>\n",
       "      <th>7</th>\n",
       "      <td>19.99</td>\n",
       "      <td>36.0</td>\n",
       "      <td>26500.0</td>\n",
       "      <td>Charged Off</td>\n",
       "      <td>4182.27</td>\n",
       "    </tr>\n",
       "    <tr>\n",
       "      <th>56</th>\n",
       "      <td>16.49</td>\n",
       "      <td>60.0</td>\n",
       "      <td>11200.0</td>\n",
       "      <td>Charged Off</td>\n",
       "      <td>1906.51</td>\n",
       "    </tr>\n",
       "    <tr>\n",
       "      <th>83</th>\n",
       "      <td>17.14</td>\n",
       "      <td>36.0</td>\n",
       "      <td>1325.0</td>\n",
       "      <td>Charged Off</td>\n",
       "      <td>282.78</td>\n",
       "    </tr>\n",
       "    <tr>\n",
       "      <th>90</th>\n",
       "      <td>19.99</td>\n",
       "      <td>36.0</td>\n",
       "      <td>8150.0</td>\n",
       "      <td>Charged Off</td>\n",
       "      <td>1808.05</td>\n",
       "    </tr>\n",
       "    <tr>\n",
       "      <th>117</th>\n",
       "      <td>12.99</td>\n",
       "      <td>36.0</td>\n",
       "      <td>7000.0</td>\n",
       "      <td>Charged Off</td>\n",
       "      <td>1654.14</td>\n",
       "    </tr>\n",
       "  </tbody>\n",
       "</table>\n",
       "</div>"
      ],
      "text/plain": [
       "     int_rate  term  loan_amount  loan_status  total_payment\n",
       "7       19.99  36.0      26500.0  Charged Off        4182.27\n",
       "56      16.49  60.0      11200.0  Charged Off        1906.51\n",
       "83      17.14  36.0       1325.0  Charged Off         282.78\n",
       "90      19.99  36.0       8150.0  Charged Off        1808.05\n",
       "117     12.99  36.0       7000.0  Charged Off        1654.14"
      ]
     },
     "execution_count": 204,
     "metadata": {},
     "output_type": "execute_result"
    }
   ],
   "source": [
    "#Columns needed for calculations\n",
    "cols_to_check = ['int_rate','term','loan_amount','loan_status', 'total_payment']\n",
    "\n",
    "#Filtering the dataframe based on chosen columns for only the loans marked as 'Charged Off'\n",
    "loss_df_cols = df[loss_loans][cols_to_check]\n",
    "loss_df = loss_df_cols.copy()\n",
    "loss_df.head()"
   ]
  },
  {
   "cell_type": "markdown",
   "metadata": {},
   "source": [
    "#### Total Expected Amount\n",
    "    -  Calculating the total expected amount to be received, had all the payments been made\n",
    "    - Since 'term' is given in months and 'int_rate' is in years\n",
    "    - we need to work out the 'int_rate' in months \n",
    "    - then we can calculate the total expected amount for each loan"
   ]
  },
  {
   "cell_type": "markdown",
   "metadata": {},
   "source": [
    "- Monthly Interest Rate\n",
    "    - we will create a new column for the monthly interest rate"
   ]
  },
  {
   "cell_type": "code",
   "execution_count": 205,
   "metadata": {},
   "outputs": [
    {
     "data": {
      "text/html": [
       "<div>\n",
       "<style scoped>\n",
       "    .dataframe tbody tr th:only-of-type {\n",
       "        vertical-align: middle;\n",
       "    }\n",
       "\n",
       "    .dataframe tbody tr th {\n",
       "        vertical-align: top;\n",
       "    }\n",
       "\n",
       "    .dataframe thead th {\n",
       "        text-align: right;\n",
       "    }\n",
       "</style>\n",
       "<table border=\"1\" class=\"dataframe\">\n",
       "  <thead>\n",
       "    <tr style=\"text-align: right;\">\n",
       "      <th></th>\n",
       "      <th>int_rate</th>\n",
       "      <th>term</th>\n",
       "      <th>loan_amount</th>\n",
       "      <th>loan_status</th>\n",
       "      <th>total_payment</th>\n",
       "      <th>monthly_int_rate</th>\n",
       "    </tr>\n",
       "  </thead>\n",
       "  <tbody>\n",
       "    <tr>\n",
       "      <th>7</th>\n",
       "      <td>19.99</td>\n",
       "      <td>36.0</td>\n",
       "      <td>26500.0</td>\n",
       "      <td>Charged Off</td>\n",
       "      <td>4182.27</td>\n",
       "      <td>1.665833</td>\n",
       "    </tr>\n",
       "    <tr>\n",
       "      <th>56</th>\n",
       "      <td>16.49</td>\n",
       "      <td>60.0</td>\n",
       "      <td>11200.0</td>\n",
       "      <td>Charged Off</td>\n",
       "      <td>1906.51</td>\n",
       "      <td>1.374167</td>\n",
       "    </tr>\n",
       "    <tr>\n",
       "      <th>83</th>\n",
       "      <td>17.14</td>\n",
       "      <td>36.0</td>\n",
       "      <td>1325.0</td>\n",
       "      <td>Charged Off</td>\n",
       "      <td>282.78</td>\n",
       "      <td>1.428333</td>\n",
       "    </tr>\n",
       "    <tr>\n",
       "      <th>90</th>\n",
       "      <td>19.99</td>\n",
       "      <td>36.0</td>\n",
       "      <td>8150.0</td>\n",
       "      <td>Charged Off</td>\n",
       "      <td>1808.05</td>\n",
       "      <td>1.665833</td>\n",
       "    </tr>\n",
       "    <tr>\n",
       "      <th>117</th>\n",
       "      <td>12.99</td>\n",
       "      <td>36.0</td>\n",
       "      <td>7000.0</td>\n",
       "      <td>Charged Off</td>\n",
       "      <td>1654.14</td>\n",
       "      <td>1.082500</td>\n",
       "    </tr>\n",
       "  </tbody>\n",
       "</table>\n",
       "</div>"
      ],
      "text/plain": [
       "     int_rate  term  loan_amount  loan_status  total_payment  monthly_int_rate\n",
       "7       19.99  36.0      26500.0  Charged Off        4182.27          1.665833\n",
       "56      16.49  60.0      11200.0  Charged Off        1906.51          1.374167\n",
       "83      17.14  36.0       1325.0  Charged Off         282.78          1.428333\n",
       "90      19.99  36.0       8150.0  Charged Off        1808.05          1.665833\n",
       "117     12.99  36.0       7000.0  Charged Off        1654.14          1.082500"
      ]
     },
     "execution_count": 205,
     "metadata": {},
     "output_type": "execute_result"
    }
   ],
   "source": [
    "loss_df['monthly_int_rate'] = loss_df['int_rate']/12\n",
    "loss_df.head()"
   ]
  },
  {
   "cell_type": "markdown",
   "metadata": {},
   "source": [
    "- Total Expected Amount\n",
    "    - We can now workout the total expected amount for each loan\n",
    "    - we need to just multiply the 'monthly_int_rate' by the 'loan_amount'"
   ]
  },
  {
   "cell_type": "code",
   "execution_count": 206,
   "metadata": {},
   "outputs": [
    {
     "data": {
      "text/html": [
       "<div>\n",
       "<style scoped>\n",
       "    .dataframe tbody tr th:only-of-type {\n",
       "        vertical-align: middle;\n",
       "    }\n",
       "\n",
       "    .dataframe tbody tr th {\n",
       "        vertical-align: top;\n",
       "    }\n",
       "\n",
       "    .dataframe thead th {\n",
       "        text-align: right;\n",
       "    }\n",
       "</style>\n",
       "<table border=\"1\" class=\"dataframe\">\n",
       "  <thead>\n",
       "    <tr style=\"text-align: right;\">\n",
       "      <th></th>\n",
       "      <th>int_rate</th>\n",
       "      <th>term</th>\n",
       "      <th>loan_amount</th>\n",
       "      <th>loan_status</th>\n",
       "      <th>total_payment</th>\n",
       "      <th>monthly_int_rate</th>\n",
       "      <th>total_expec_full_amount</th>\n",
       "    </tr>\n",
       "  </thead>\n",
       "  <tbody>\n",
       "    <tr>\n",
       "      <th>7</th>\n",
       "      <td>19.99</td>\n",
       "      <td>36.0</td>\n",
       "      <td>26500.0</td>\n",
       "      <td>Charged Off</td>\n",
       "      <td>4182.27</td>\n",
       "      <td>1.665833</td>\n",
       "      <td>44144.58</td>\n",
       "    </tr>\n",
       "    <tr>\n",
       "      <th>56</th>\n",
       "      <td>16.49</td>\n",
       "      <td>60.0</td>\n",
       "      <td>11200.0</td>\n",
       "      <td>Charged Off</td>\n",
       "      <td>1906.51</td>\n",
       "      <td>1.374167</td>\n",
       "      <td>15390.67</td>\n",
       "    </tr>\n",
       "    <tr>\n",
       "      <th>83</th>\n",
       "      <td>17.14</td>\n",
       "      <td>36.0</td>\n",
       "      <td>1325.0</td>\n",
       "      <td>Charged Off</td>\n",
       "      <td>282.78</td>\n",
       "      <td>1.428333</td>\n",
       "      <td>1892.54</td>\n",
       "    </tr>\n",
       "    <tr>\n",
       "      <th>90</th>\n",
       "      <td>19.99</td>\n",
       "      <td>36.0</td>\n",
       "      <td>8150.0</td>\n",
       "      <td>Charged Off</td>\n",
       "      <td>1808.05</td>\n",
       "      <td>1.665833</td>\n",
       "      <td>13576.54</td>\n",
       "    </tr>\n",
       "    <tr>\n",
       "      <th>117</th>\n",
       "      <td>12.99</td>\n",
       "      <td>36.0</td>\n",
       "      <td>7000.0</td>\n",
       "      <td>Charged Off</td>\n",
       "      <td>1654.14</td>\n",
       "      <td>1.082500</td>\n",
       "      <td>7577.50</td>\n",
       "    </tr>\n",
       "  </tbody>\n",
       "</table>\n",
       "</div>"
      ],
      "text/plain": [
       "     int_rate  term  loan_amount  loan_status  total_payment  \\\n",
       "7       19.99  36.0      26500.0  Charged Off        4182.27   \n",
       "56      16.49  60.0      11200.0  Charged Off        1906.51   \n",
       "83      17.14  36.0       1325.0  Charged Off         282.78   \n",
       "90      19.99  36.0       8150.0  Charged Off        1808.05   \n",
       "117     12.99  36.0       7000.0  Charged Off        1654.14   \n",
       "\n",
       "     monthly_int_rate  total_expec_full_amount  \n",
       "7            1.665833                 44144.58  \n",
       "56           1.374167                 15390.67  \n",
       "83           1.428333                  1892.54  \n",
       "90           1.665833                 13576.54  \n",
       "117          1.082500                  7577.50  "
      ]
     },
     "execution_count": 206,
     "metadata": {},
     "output_type": "execute_result"
    }
   ],
   "source": [
    "loss_df['total_expec_full_amount'] = round(loss_df['loan_amount']*loss_df['monthly_int_rate'],2)\n",
    "loss_df.head()"
   ]
  },
  {
   "cell_type": "markdown",
   "metadata": {},
   "source": [
    "- Total Expected Loss\n",
    "    - We can now work out how much loss incurred, given the expected amount\n",
    "    - This will be there difference between 'total_expec_full_amount' and 'total_payment'"
   ]
  },
  {
   "cell_type": "code",
   "execution_count": 207,
   "metadata": {},
   "outputs": [
    {
     "data": {
      "text/html": [
       "<div>\n",
       "<style scoped>\n",
       "    .dataframe tbody tr th:only-of-type {\n",
       "        vertical-align: middle;\n",
       "    }\n",
       "\n",
       "    .dataframe tbody tr th {\n",
       "        vertical-align: top;\n",
       "    }\n",
       "\n",
       "    .dataframe thead th {\n",
       "        text-align: right;\n",
       "    }\n",
       "</style>\n",
       "<table border=\"1\" class=\"dataframe\">\n",
       "  <thead>\n",
       "    <tr style=\"text-align: right;\">\n",
       "      <th></th>\n",
       "      <th>int_rate</th>\n",
       "      <th>term</th>\n",
       "      <th>loan_amount</th>\n",
       "      <th>loan_status</th>\n",
       "      <th>total_payment</th>\n",
       "      <th>monthly_int_rate</th>\n",
       "      <th>total_expec_full_amount</th>\n",
       "      <th>total_expected_loss</th>\n",
       "    </tr>\n",
       "  </thead>\n",
       "  <tbody>\n",
       "    <tr>\n",
       "      <th>7</th>\n",
       "      <td>19.99</td>\n",
       "      <td>36.0</td>\n",
       "      <td>26500.0</td>\n",
       "      <td>Charged Off</td>\n",
       "      <td>4182.27</td>\n",
       "      <td>1.665833</td>\n",
       "      <td>44144.58</td>\n",
       "      <td>39962.31</td>\n",
       "    </tr>\n",
       "    <tr>\n",
       "      <th>56</th>\n",
       "      <td>16.49</td>\n",
       "      <td>60.0</td>\n",
       "      <td>11200.0</td>\n",
       "      <td>Charged Off</td>\n",
       "      <td>1906.51</td>\n",
       "      <td>1.374167</td>\n",
       "      <td>15390.67</td>\n",
       "      <td>13484.16</td>\n",
       "    </tr>\n",
       "    <tr>\n",
       "      <th>83</th>\n",
       "      <td>17.14</td>\n",
       "      <td>36.0</td>\n",
       "      <td>1325.0</td>\n",
       "      <td>Charged Off</td>\n",
       "      <td>282.78</td>\n",
       "      <td>1.428333</td>\n",
       "      <td>1892.54</td>\n",
       "      <td>1609.76</td>\n",
       "    </tr>\n",
       "    <tr>\n",
       "      <th>90</th>\n",
       "      <td>19.99</td>\n",
       "      <td>36.0</td>\n",
       "      <td>8150.0</td>\n",
       "      <td>Charged Off</td>\n",
       "      <td>1808.05</td>\n",
       "      <td>1.665833</td>\n",
       "      <td>13576.54</td>\n",
       "      <td>11768.49</td>\n",
       "    </tr>\n",
       "    <tr>\n",
       "      <th>117</th>\n",
       "      <td>12.99</td>\n",
       "      <td>36.0</td>\n",
       "      <td>7000.0</td>\n",
       "      <td>Charged Off</td>\n",
       "      <td>1654.14</td>\n",
       "      <td>1.082500</td>\n",
       "      <td>7577.50</td>\n",
       "      <td>5923.36</td>\n",
       "    </tr>\n",
       "  </tbody>\n",
       "</table>\n",
       "</div>"
      ],
      "text/plain": [
       "     int_rate  term  loan_amount  loan_status  total_payment  \\\n",
       "7       19.99  36.0      26500.0  Charged Off        4182.27   \n",
       "56      16.49  60.0      11200.0  Charged Off        1906.51   \n",
       "83      17.14  36.0       1325.0  Charged Off         282.78   \n",
       "90      19.99  36.0       8150.0  Charged Off        1808.05   \n",
       "117     12.99  36.0       7000.0  Charged Off        1654.14   \n",
       "\n",
       "     monthly_int_rate  total_expec_full_amount  total_expected_loss  \n",
       "7            1.665833                 44144.58             39962.31  \n",
       "56           1.374167                 15390.67             13484.16  \n",
       "83           1.428333                  1892.54              1609.76  \n",
       "90           1.665833                 13576.54             11768.49  \n",
       "117          1.082500                  7577.50              5923.36  "
      ]
     },
     "execution_count": 207,
     "metadata": {},
     "output_type": "execute_result"
    }
   ],
   "source": [
    "loss_df['total_expected_loss'] = round(loss_df['total_expec_full_amount'] - loss_df['total_payment'], 2)\n",
    "loss_df.head()"
   ]
  },
  {
   "cell_type": "markdown",
   "metadata": {},
   "source": [
    "- Total Loss and Percentage Loss"
   ]
  },
  {
   "cell_type": "code",
   "execution_count": 275,
   "metadata": {},
   "outputs": [
    {
     "name": "stdout",
     "output_type": "stream",
     "text": [
      "The total loss of revenue for loans marked as 'Charged Off': £63187971.75\n",
      "The total percentage loss of revenue for loans marked as 'Charged Off': 37.35%\n"
     ]
    }
   ],
   "source": [
    "#Sum of total payments received\n",
    "sum_total_payment_charged_off = sum(loss_df['total_payment'])\n",
    "#Sum of total expected amount\n",
    "sum_total_expec_amount_charged_off = sum(loss_df['total_expec_full_amount'])\n",
    "\n",
    "#Total sum of loss\n",
    "total_revenue_loss_charged_off = round((sum_total_expec_amount_charged_off - sum_total_payment_charged_off),2)\n",
    "print(f\"The total loss of revenue for loans marked as 'Charged Off': £{total_revenue_loss_charged_off}\")\n",
    "\n",
    "#Percentage Loss \n",
    "prcnt_loss_charged_off = round((sum_total_payment_charged_off/sum_total_expec_amount_charged_off)*100,2)\n",
    "print(f\"The total percentage loss of revenue for loans marked as 'Charged Off': {prcnt_loss_charged_off}%\")"
   ]
  },
  {
   "cell_type": "markdown",
   "metadata": {},
   "source": [
    "- Pie Chart"
   ]
  },
  {
   "cell_type": "code",
   "execution_count": 223,
   "metadata": {},
   "outputs": [
    {
     "data": {
      "image/png": "[encoded data removed]",
      "text/plain": [
       "<Figure size 800x600 with 1 Axes>"
      ]
     },
     "metadata": {},
     "output_type": "display_data"
    }
   ],
   "source": [
    "#pie chart preparation\n",
    "labels = 'Total Payments Received', 'Total Payments Not Received'\n",
    "plot = [sum_total_payment_charged_off, sum_total_expec_amount_charged_off]\n",
    "explode = (0.1, 0)  # explode 1st slice\n",
    "\n",
    "plt.figure(figsize=(8, 6))\n",
    "plt.pie(plot, explode=explode, labels=labels, autopct='%1.1f%%',\n",
    "        shadow=True, startangle=140)\n",
    "plt.axis('equal')  # Equal aspect ratio ensures pie chart is drawn as a circle\n",
    "\n",
    "plt.title('Total Payments Received vs Total Payments Not Received')\n",
    "plt.show()"
   ]
  },
  {
   "cell_type": "markdown",
   "metadata": {},
   "source": [
    "### Task 4 - Possible Loss\n",
    "- Loans marked as 'Late' come under loans where customers are behind on their payments"
   ]
  },
  {
   "cell_type": "markdown",
   "metadata": {},
   "source": [
    "#### Late Loans"
   ]
  },
  {
   "cell_type": "code",
   "execution_count": 225,
   "metadata": {},
   "outputs": [
    {
     "data": {
      "text/plain": [
       "['Current', 'Fully Paid', 'Charged Off', 'Late (31-120 days)', 'In Grace Period', 'Late (16-30 days)', 'Default', 'Does not meet the credit policy. Status:Fully..., 'Does not meet the credit policy. Status:Charg...]\n",
       "Categories (9, object): ['Charged Off', 'Current', 'Default', 'Does not meet the credit policy. Status:Charg..., ..., 'Fully Paid', 'In Grace Period', 'Late (16-30 days)', 'Late (31-120 days)']"
      ]
     },
     "execution_count": 225,
     "metadata": {},
     "output_type": "execute_result"
    }
   ],
   "source": [
    "df['loan_status'].unique()"
   ]
  },
  {
   "cell_type": "markdown",
   "metadata": {},
   "source": [
    "- Total Loans marked as Late"
   ]
  },
  {
   "cell_type": "code",
   "execution_count": 241,
   "metadata": {},
   "outputs": [
    {
     "name": "stdout",
     "output_type": "stream",
     "text": [
      "Total number of loans marked as 'Late': 647\n"
     ]
    }
   ],
   "source": [
    "possible_loss_loans = df['loan_status'].str.contains('Late', case=False)\n",
    "total_possible_loss_loans = len(df[possible_loss_loans]['loan_status'])\n",
    "print(f\"Total number of loans marked as 'Late': {total_possible_loss_loans}\")\n"
   ]
  },
  {
   "cell_type": "markdown",
   "metadata": {},
   "source": [
    "- Total Loans marked as Late as a %"
   ]
  },
  {
   "cell_type": "code",
   "execution_count": 242,
   "metadata": {},
   "outputs": [
    {
     "name": "stdout",
     "output_type": "stream",
     "text": [
      "Percentage of loans that are behind on payments: 1.24%\n"
     ]
    }
   ],
   "source": [
    "prcnt_possible_loss_loans = round((total_possible_loss_loans / total_loans)*100,2)\n",
    "print(f\"Percentage of loans that are behind on payments: {prcnt_possible_loss_loans}%\")"
   ]
  },
  {
   "cell_type": "markdown",
   "metadata": {},
   "source": [
    "- How much loss the company would incur if their status was changed to 'Charged Off'\n",
    "    - We will create a new dataframe with all columns required to calculate potential loss for status currently as 'Late'"
   ]
  },
  {
   "cell_type": "code",
   "execution_count": 245,
   "metadata": {},
   "outputs": [
    {
     "data": {
      "text/html": [
       "<div>\n",
       "<style scoped>\n",
       "    .dataframe tbody tr th:only-of-type {\n",
       "        vertical-align: middle;\n",
       "    }\n",
       "\n",
       "    .dataframe tbody tr th {\n",
       "        vertical-align: top;\n",
       "    }\n",
       "\n",
       "    .dataframe thead th {\n",
       "        text-align: right;\n",
       "    }\n",
       "</style>\n",
       "<table border=\"1\" class=\"dataframe\">\n",
       "  <thead>\n",
       "    <tr style=\"text-align: right;\">\n",
       "      <th></th>\n",
       "      <th>int_rate</th>\n",
       "      <th>term</th>\n",
       "      <th>loan_amount</th>\n",
       "      <th>loan_status</th>\n",
       "      <th>total_payment</th>\n",
       "    </tr>\n",
       "  </thead>\n",
       "  <tbody>\n",
       "    <tr>\n",
       "      <th>17</th>\n",
       "      <td>13.660000</td>\n",
       "      <td>60.0</td>\n",
       "      <td>18825.0</td>\n",
       "      <td>Late (31-120 days)</td>\n",
       "      <td>3883.91</td>\n",
       "    </tr>\n",
       "    <tr>\n",
       "      <th>140</th>\n",
       "      <td>14.990000</td>\n",
       "      <td>36.0</td>\n",
       "      <td>15600.0</td>\n",
       "      <td>Late (31-120 days)</td>\n",
       "      <td>5394.11</td>\n",
       "    </tr>\n",
       "    <tr>\n",
       "      <th>168</th>\n",
       "      <td>8.670000</td>\n",
       "      <td>36.0</td>\n",
       "      <td>6000.0</td>\n",
       "      <td>Late (31-120 days)</td>\n",
       "      <td>1908.02</td>\n",
       "    </tr>\n",
       "    <tr>\n",
       "      <th>171</th>\n",
       "      <td>13.507328</td>\n",
       "      <td>36.0</td>\n",
       "      <td>15000.0</td>\n",
       "      <td>Late (31-120 days)</td>\n",
       "      <td>3764.14</td>\n",
       "    </tr>\n",
       "    <tr>\n",
       "      <th>243</th>\n",
       "      <td>11.440000</td>\n",
       "      <td>36.0</td>\n",
       "      <td>5000.0</td>\n",
       "      <td>Late (16-30 days)</td>\n",
       "      <td>1808.96</td>\n",
       "    </tr>\n",
       "  </tbody>\n",
       "</table>\n",
       "</div>"
      ],
      "text/plain": [
       "      int_rate  term  loan_amount         loan_status  total_payment\n",
       "17   13.660000  60.0      18825.0  Late (31-120 days)        3883.91\n",
       "140  14.990000  36.0      15600.0  Late (31-120 days)        5394.11\n",
       "168   8.670000  36.0       6000.0  Late (31-120 days)        1908.02\n",
       "171  13.507328  36.0      15000.0  Late (31-120 days)        3764.14\n",
       "243  11.440000  36.0       5000.0   Late (16-30 days)        1808.96"
      ]
     },
     "execution_count": 245,
     "metadata": {},
     "output_type": "execute_result"
    }
   ],
   "source": [
    "#Columns needed for calculations\n",
    "cols_to_check = ['int_rate','term','loan_amount','loan_status', 'total_payment']\n",
    "\n",
    "#Filtering the dataframe based on chosen columns for only the loans marked as 'Late'\n",
    "possible_loss_df_cols = df[possible_loss_loans][cols_to_check]\n",
    "possible_loss_df = possible_loss_df_cols.copy()\n",
    "possible_loss_df.head()"
   ]
  },
  {
   "cell_type": "markdown",
   "metadata": {},
   "source": [
    "- Working out monthly Interest Rate\n",
    "    - we will create a new column for the monthly interest rate"
   ]
  },
  {
   "cell_type": "code",
   "execution_count": 246,
   "metadata": {},
   "outputs": [
    {
     "data": {
      "text/html": [
       "<div>\n",
       "<style scoped>\n",
       "    .dataframe tbody tr th:only-of-type {\n",
       "        vertical-align: middle;\n",
       "    }\n",
       "\n",
       "    .dataframe tbody tr th {\n",
       "        vertical-align: top;\n",
       "    }\n",
       "\n",
       "    .dataframe thead th {\n",
       "        text-align: right;\n",
       "    }\n",
       "</style>\n",
       "<table border=\"1\" class=\"dataframe\">\n",
       "  <thead>\n",
       "    <tr style=\"text-align: right;\">\n",
       "      <th></th>\n",
       "      <th>int_rate</th>\n",
       "      <th>term</th>\n",
       "      <th>loan_amount</th>\n",
       "      <th>loan_status</th>\n",
       "      <th>total_payment</th>\n",
       "      <th>monthly_int_rate</th>\n",
       "    </tr>\n",
       "  </thead>\n",
       "  <tbody>\n",
       "    <tr>\n",
       "      <th>17</th>\n",
       "      <td>13.660000</td>\n",
       "      <td>60.0</td>\n",
       "      <td>18825.0</td>\n",
       "      <td>Late (31-120 days)</td>\n",
       "      <td>3883.91</td>\n",
       "      <td>1.138333</td>\n",
       "    </tr>\n",
       "    <tr>\n",
       "      <th>140</th>\n",
       "      <td>14.990000</td>\n",
       "      <td>36.0</td>\n",
       "      <td>15600.0</td>\n",
       "      <td>Late (31-120 days)</td>\n",
       "      <td>5394.11</td>\n",
       "      <td>1.249167</td>\n",
       "    </tr>\n",
       "    <tr>\n",
       "      <th>168</th>\n",
       "      <td>8.670000</td>\n",
       "      <td>36.0</td>\n",
       "      <td>6000.0</td>\n",
       "      <td>Late (31-120 days)</td>\n",
       "      <td>1908.02</td>\n",
       "      <td>0.722500</td>\n",
       "    </tr>\n",
       "    <tr>\n",
       "      <th>171</th>\n",
       "      <td>13.507328</td>\n",
       "      <td>36.0</td>\n",
       "      <td>15000.0</td>\n",
       "      <td>Late (31-120 days)</td>\n",
       "      <td>3764.14</td>\n",
       "      <td>1.125611</td>\n",
       "    </tr>\n",
       "    <tr>\n",
       "      <th>243</th>\n",
       "      <td>11.440000</td>\n",
       "      <td>36.0</td>\n",
       "      <td>5000.0</td>\n",
       "      <td>Late (16-30 days)</td>\n",
       "      <td>1808.96</td>\n",
       "      <td>0.953333</td>\n",
       "    </tr>\n",
       "  </tbody>\n",
       "</table>\n",
       "</div>"
      ],
      "text/plain": [
       "      int_rate  term  loan_amount         loan_status  total_payment  \\\n",
       "17   13.660000  60.0      18825.0  Late (31-120 days)        3883.91   \n",
       "140  14.990000  36.0      15600.0  Late (31-120 days)        5394.11   \n",
       "168   8.670000  36.0       6000.0  Late (31-120 days)        1908.02   \n",
       "171  13.507328  36.0      15000.0  Late (31-120 days)        3764.14   \n",
       "243  11.440000  36.0       5000.0   Late (16-30 days)        1808.96   \n",
       "\n",
       "     monthly_int_rate  \n",
       "17           1.138333  \n",
       "140          1.249167  \n",
       "168          0.722500  \n",
       "171          1.125611  \n",
       "243          0.953333  "
      ]
     },
     "execution_count": 246,
     "metadata": {},
     "output_type": "execute_result"
    }
   ],
   "source": [
    "possible_loss_df['monthly_int_rate'] = possible_loss_df['int_rate']/12\n",
    "possible_loss_df.head()"
   ]
  },
  {
   "cell_type": "markdown",
   "metadata": {},
   "source": [
    "- Total Expected Loss if they are changed from 'Late' to 'Charged Off'\n",
    "    - We will first create a new column to work out the potential Revenue for these columns"
   ]
  },
  {
   "cell_type": "code",
   "execution_count": 250,
   "metadata": {},
   "outputs": [
    {
     "data": {
      "text/html": [
       "<div>\n",
       "<style scoped>\n",
       "    .dataframe tbody tr th:only-of-type {\n",
       "        vertical-align: middle;\n",
       "    }\n",
       "\n",
       "    .dataframe tbody tr th {\n",
       "        vertical-align: top;\n",
       "    }\n",
       "\n",
       "    .dataframe thead th {\n",
       "        text-align: right;\n",
       "    }\n",
       "</style>\n",
       "<table border=\"1\" class=\"dataframe\">\n",
       "  <thead>\n",
       "    <tr style=\"text-align: right;\">\n",
       "      <th></th>\n",
       "      <th>int_rate</th>\n",
       "      <th>term</th>\n",
       "      <th>loan_amount</th>\n",
       "      <th>loan_status</th>\n",
       "      <th>total_payment</th>\n",
       "      <th>monthly_int_rate</th>\n",
       "      <th>total_expec_full_amount</th>\n",
       "    </tr>\n",
       "  </thead>\n",
       "  <tbody>\n",
       "    <tr>\n",
       "      <th>17</th>\n",
       "      <td>13.660000</td>\n",
       "      <td>60.0</td>\n",
       "      <td>18825.0</td>\n",
       "      <td>Late (31-120 days)</td>\n",
       "      <td>3883.91</td>\n",
       "      <td>1.138333</td>\n",
       "      <td>21429.12</td>\n",
       "    </tr>\n",
       "    <tr>\n",
       "      <th>140</th>\n",
       "      <td>14.990000</td>\n",
       "      <td>36.0</td>\n",
       "      <td>15600.0</td>\n",
       "      <td>Late (31-120 days)</td>\n",
       "      <td>5394.11</td>\n",
       "      <td>1.249167</td>\n",
       "      <td>19487.00</td>\n",
       "    </tr>\n",
       "    <tr>\n",
       "      <th>168</th>\n",
       "      <td>8.670000</td>\n",
       "      <td>36.0</td>\n",
       "      <td>6000.0</td>\n",
       "      <td>Late (31-120 days)</td>\n",
       "      <td>1908.02</td>\n",
       "      <td>0.722500</td>\n",
       "      <td>4335.00</td>\n",
       "    </tr>\n",
       "    <tr>\n",
       "      <th>171</th>\n",
       "      <td>13.507328</td>\n",
       "      <td>36.0</td>\n",
       "      <td>15000.0</td>\n",
       "      <td>Late (31-120 days)</td>\n",
       "      <td>3764.14</td>\n",
       "      <td>1.125611</td>\n",
       "      <td>16884.16</td>\n",
       "    </tr>\n",
       "    <tr>\n",
       "      <th>243</th>\n",
       "      <td>11.440000</td>\n",
       "      <td>36.0</td>\n",
       "      <td>5000.0</td>\n",
       "      <td>Late (16-30 days)</td>\n",
       "      <td>1808.96</td>\n",
       "      <td>0.953333</td>\n",
       "      <td>4766.67</td>\n",
       "    </tr>\n",
       "  </tbody>\n",
       "</table>\n",
       "</div>"
      ],
      "text/plain": [
       "      int_rate  term  loan_amount         loan_status  total_payment  \\\n",
       "17   13.660000  60.0      18825.0  Late (31-120 days)        3883.91   \n",
       "140  14.990000  36.0      15600.0  Late (31-120 days)        5394.11   \n",
       "168   8.670000  36.0       6000.0  Late (31-120 days)        1908.02   \n",
       "171  13.507328  36.0      15000.0  Late (31-120 days)        3764.14   \n",
       "243  11.440000  36.0       5000.0   Late (16-30 days)        1808.96   \n",
       "\n",
       "     monthly_int_rate  total_expec_full_amount  \n",
       "17           1.138333                 21429.12  \n",
       "140          1.249167                 19487.00  \n",
       "168          0.722500                  4335.00  \n",
       "171          1.125611                 16884.16  \n",
       "243          0.953333                  4766.67  "
      ]
     },
     "execution_count": 250,
     "metadata": {},
     "output_type": "execute_result"
    }
   ],
   "source": [
    "#Total Possible Revenue for the loans classed as 'Late' if the loans completed\n",
    "possible_loss_df['total_expec_full_amount'] = round(possible_loss_df['loan_amount']*possible_loss_df['monthly_int_rate'],2)\n",
    "possible_loss_df.head()"
   ]
  },
  {
   "cell_type": "markdown",
   "metadata": {},
   "source": [
    "- We can now work out Possible Loss if the loans' status was changed to 'Charged off'\n",
    "    - First we work out the sum of the total payments that have been received \n",
    "    - Then we will work out the sum of the total expected amount if the loans completed\n",
    "    - from there we can work out total possible loss if the status changes"
   ]
  },
  {
   "cell_type": "code",
   "execution_count": 276,
   "metadata": {},
   "outputs": [
    {
     "name": "stdout",
     "output_type": "stream",
     "text": [
      "The total possible loss of revenue for loans marked as 'Late' if their status changed to 'Charged Off': £6951446.85\n",
      "The total percentage loss of revenue for loans marked as 'Late': 48.67%\n"
     ]
    }
   ],
   "source": [
    "#Sum of total payments received\n",
    "sum_total_payment_late = sum(possible_loss_df['total_payment'])\n",
    "#Sum of total expected amount\n",
    "sum_total_expec_amount_late = sum(possible_loss_df['total_expec_full_amount'])\n",
    "\n",
    "#Total sum of loss\n",
    "total_revenue_loss_late = round((sum_total_expec_amount_late - sum_total_payment_late),2)\n",
    "print(f\"The total possible loss of revenue for loans marked as 'Late' if their status changed to 'Charged Off': £{total_revenue_loss_late}\")\n",
    "\n",
    "#Percentage Loss \n",
    "prcnt_loss_late = round((sum_total_payment_late/sum_total_expec_amount_late)*100,2)\n",
    "print(f\"The total percentage loss of revenue for loans marked as 'Late': {prcnt_loss_late}%\")"
   ]
  },
  {
   "cell_type": "markdown",
   "metadata": {},
   "source": [
    "#### Default Loans"
   ]
  },
  {
   "cell_type": "markdown",
   "metadata": {},
   "source": [
    "If customers that are late on payments converted to Charged Off, what percentage of total expected revenue do these customers and the customers who have already defaulted on their loan represent?\n",
    "- We need a total of loans marked as 'Late', 'Charged off' and 'Default'"
   ]
  },
  {
   "cell_type": "code",
   "execution_count": 254,
   "metadata": {},
   "outputs": [
    {
     "data": {
      "text/plain": [
       "loan_status\n",
       "Fully Paid                                             26222\n",
       "Current                                                18278\n",
       "Charged Off                                             5231\n",
       "Does not meet the credit policy. Status:Fully Paid       962\n",
       "Late (31-120 days)                                       551\n",
       "Does not meet the credit policy. Status:Charged Off      343\n",
       "In Grace Period                                          254\n",
       "Late (16-30 days)                                         96\n",
       "Default                                                   49\n",
       "Name: count, dtype: int64"
      ]
     },
     "execution_count": 254,
     "metadata": {},
     "output_type": "execute_result"
    }
   ],
   "source": [
    "df['loan_status'].value_counts()"
   ]
  },
  {
   "cell_type": "code",
   "execution_count": 261,
   "metadata": {},
   "outputs": [
    {
     "name": "stdout",
     "output_type": "stream",
     "text": [
      "5574\n",
      "647\n",
      "49\n"
     ]
    }
   ],
   "source": [
    "#Charged Off Loans\n",
    "print(total_loss_loans)\n",
    "\n",
    "#Late Loans\n",
    "print(total_possible_loss_loans)\n",
    "\n",
    "#Default Loans\n",
    "default_loans = df['loan_status'].str.contains(\"Default\", case=False)\n",
    "total_default_loans = len(df[default_loans])\n",
    "print(total_default_loans)"
   ]
  },
  {
   "cell_type": "markdown",
   "metadata": {},
   "source": [
    "- We will work out the expected revenue from the loans marked as 'Default'\n",
    "    - First we need to create a new dataframe with all loans marked as default"
   ]
  },
  {
   "cell_type": "code",
   "execution_count": 267,
   "metadata": {},
   "outputs": [
    {
     "data": {
      "text/html": [
       "<div>\n",
       "<style scoped>\n",
       "    .dataframe tbody tr th:only-of-type {\n",
       "        vertical-align: middle;\n",
       "    }\n",
       "\n",
       "    .dataframe tbody tr th {\n",
       "        vertical-align: top;\n",
       "    }\n",
       "\n",
       "    .dataframe thead th {\n",
       "        text-align: right;\n",
       "    }\n",
       "</style>\n",
       "<table border=\"1\" class=\"dataframe\">\n",
       "  <thead>\n",
       "    <tr style=\"text-align: right;\">\n",
       "      <th></th>\n",
       "      <th>int_rate</th>\n",
       "      <th>term</th>\n",
       "      <th>loan_amount</th>\n",
       "      <th>loan_status</th>\n",
       "      <th>total_payment</th>\n",
       "    </tr>\n",
       "  </thead>\n",
       "  <tbody>\n",
       "    <tr>\n",
       "      <th>746</th>\n",
       "      <td>12.99</td>\n",
       "      <td>36.0</td>\n",
       "      <td>8450.0</td>\n",
       "      <td>Default</td>\n",
       "      <td>1980.56</td>\n",
       "    </tr>\n",
       "    <tr>\n",
       "      <th>1464</th>\n",
       "      <td>11.44</td>\n",
       "      <td>36.0</td>\n",
       "      <td>6000.0</td>\n",
       "      <td>Default</td>\n",
       "      <td>1397.45</td>\n",
       "    </tr>\n",
       "    <tr>\n",
       "      <th>2628</th>\n",
       "      <td>18.54</td>\n",
       "      <td>36.0</td>\n",
       "      <td>21675.0</td>\n",
       "      <td>Default</td>\n",
       "      <td>3852.88</td>\n",
       "    </tr>\n",
       "    <tr>\n",
       "      <th>3413</th>\n",
       "      <td>8.67</td>\n",
       "      <td>36.0</td>\n",
       "      <td>35000.0</td>\n",
       "      <td>Default</td>\n",
       "      <td>7828.98</td>\n",
       "    </tr>\n",
       "    <tr>\n",
       "      <th>5819</th>\n",
       "      <td>24.50</td>\n",
       "      <td>60.0</td>\n",
       "      <td>35000.0</td>\n",
       "      <td>Default</td>\n",
       "      <td>20384.33</td>\n",
       "    </tr>\n",
       "  </tbody>\n",
       "</table>\n",
       "</div>"
      ],
      "text/plain": [
       "      int_rate  term  loan_amount loan_status  total_payment\n",
       "746      12.99  36.0       8450.0     Default        1980.56\n",
       "1464     11.44  36.0       6000.0     Default        1397.45\n",
       "2628     18.54  36.0      21675.0     Default        3852.88\n",
       "3413      8.67  36.0      35000.0     Default        7828.98\n",
       "5819     24.50  60.0      35000.0     Default       20384.33"
      ]
     },
     "execution_count": 267,
     "metadata": {},
     "output_type": "execute_result"
    }
   ],
   "source": [
    "#Columns needed for calculations\n",
    "cols_to_check = ['int_rate','term','loan_amount','loan_status', 'total_payment']\n",
    "\n",
    "#Filtering the dataframe based on chosen columns for only the loans marked as 'Late'\n",
    "default_df_cols = df[default_loans][cols_to_check]\n",
    "default_df = default_df_cols.copy()\n",
    "default_df.head()"
   ]
  },
  {
   "cell_type": "markdown",
   "metadata": {},
   "source": [
    "- Total Monthly interest rate for Default Loans"
   ]
  },
  {
   "cell_type": "code",
   "execution_count": 268,
   "metadata": {},
   "outputs": [
    {
     "data": {
      "text/html": [
       "<div>\n",
       "<style scoped>\n",
       "    .dataframe tbody tr th:only-of-type {\n",
       "        vertical-align: middle;\n",
       "    }\n",
       "\n",
       "    .dataframe tbody tr th {\n",
       "        vertical-align: top;\n",
       "    }\n",
       "\n",
       "    .dataframe thead th {\n",
       "        text-align: right;\n",
       "    }\n",
       "</style>\n",
       "<table border=\"1\" class=\"dataframe\">\n",
       "  <thead>\n",
       "    <tr style=\"text-align: right;\">\n",
       "      <th></th>\n",
       "      <th>int_rate</th>\n",
       "      <th>term</th>\n",
       "      <th>loan_amount</th>\n",
       "      <th>loan_status</th>\n",
       "      <th>total_payment</th>\n",
       "      <th>monthly_int_rate</th>\n",
       "    </tr>\n",
       "  </thead>\n",
       "  <tbody>\n",
       "    <tr>\n",
       "      <th>746</th>\n",
       "      <td>12.99</td>\n",
       "      <td>36.0</td>\n",
       "      <td>8450.0</td>\n",
       "      <td>Default</td>\n",
       "      <td>1980.56</td>\n",
       "      <td>1.082500</td>\n",
       "    </tr>\n",
       "    <tr>\n",
       "      <th>1464</th>\n",
       "      <td>11.44</td>\n",
       "      <td>36.0</td>\n",
       "      <td>6000.0</td>\n",
       "      <td>Default</td>\n",
       "      <td>1397.45</td>\n",
       "      <td>0.953333</td>\n",
       "    </tr>\n",
       "    <tr>\n",
       "      <th>2628</th>\n",
       "      <td>18.54</td>\n",
       "      <td>36.0</td>\n",
       "      <td>21675.0</td>\n",
       "      <td>Default</td>\n",
       "      <td>3852.88</td>\n",
       "      <td>1.545000</td>\n",
       "    </tr>\n",
       "    <tr>\n",
       "      <th>3413</th>\n",
       "      <td>8.67</td>\n",
       "      <td>36.0</td>\n",
       "      <td>35000.0</td>\n",
       "      <td>Default</td>\n",
       "      <td>7828.98</td>\n",
       "      <td>0.722500</td>\n",
       "    </tr>\n",
       "    <tr>\n",
       "      <th>5819</th>\n",
       "      <td>24.50</td>\n",
       "      <td>60.0</td>\n",
       "      <td>35000.0</td>\n",
       "      <td>Default</td>\n",
       "      <td>20384.33</td>\n",
       "      <td>2.041667</td>\n",
       "    </tr>\n",
       "  </tbody>\n",
       "</table>\n",
       "</div>"
      ],
      "text/plain": [
       "      int_rate  term  loan_amount loan_status  total_payment  monthly_int_rate\n",
       "746      12.99  36.0       8450.0     Default        1980.56          1.082500\n",
       "1464     11.44  36.0       6000.0     Default        1397.45          0.953333\n",
       "2628     18.54  36.0      21675.0     Default        3852.88          1.545000\n",
       "3413      8.67  36.0      35000.0     Default        7828.98          0.722500\n",
       "5819     24.50  60.0      35000.0     Default       20384.33          2.041667"
      ]
     },
     "execution_count": 268,
     "metadata": {},
     "output_type": "execute_result"
    }
   ],
   "source": [
    "default_df['monthly_int_rate'] = default_df['int_rate']/12\n",
    "default_df.head()"
   ]
  },
  {
   "cell_type": "markdown",
   "metadata": {},
   "source": [
    "- Total Expected Loss for Default loans\n",
    "    - We will first create a new column to work out the potential Revenue for these columns"
   ]
  },
  {
   "cell_type": "code",
   "execution_count": 286,
   "metadata": {},
   "outputs": [
    {
     "data": {
      "text/html": [
       "<div>\n",
       "<style scoped>\n",
       "    .dataframe tbody tr th:only-of-type {\n",
       "        vertical-align: middle;\n",
       "    }\n",
       "\n",
       "    .dataframe tbody tr th {\n",
       "        vertical-align: top;\n",
       "    }\n",
       "\n",
       "    .dataframe thead th {\n",
       "        text-align: right;\n",
       "    }\n",
       "</style>\n",
       "<table border=\"1\" class=\"dataframe\">\n",
       "  <thead>\n",
       "    <tr style=\"text-align: right;\">\n",
       "      <th></th>\n",
       "      <th>int_rate</th>\n",
       "      <th>term</th>\n",
       "      <th>loan_amount</th>\n",
       "      <th>loan_status</th>\n",
       "      <th>total_payment</th>\n",
       "      <th>monthly_int_rate</th>\n",
       "      <th>total_expec_full_amount</th>\n",
       "    </tr>\n",
       "  </thead>\n",
       "  <tbody>\n",
       "    <tr>\n",
       "      <th>746</th>\n",
       "      <td>12.99</td>\n",
       "      <td>36.0</td>\n",
       "      <td>8450.0</td>\n",
       "      <td>Default</td>\n",
       "      <td>1980.56</td>\n",
       "      <td>1.082500</td>\n",
       "      <td>9147.12</td>\n",
       "    </tr>\n",
       "    <tr>\n",
       "      <th>1464</th>\n",
       "      <td>11.44</td>\n",
       "      <td>36.0</td>\n",
       "      <td>6000.0</td>\n",
       "      <td>Default</td>\n",
       "      <td>1397.45</td>\n",
       "      <td>0.953333</td>\n",
       "      <td>5720.00</td>\n",
       "    </tr>\n",
       "    <tr>\n",
       "      <th>2628</th>\n",
       "      <td>18.54</td>\n",
       "      <td>36.0</td>\n",
       "      <td>21675.0</td>\n",
       "      <td>Default</td>\n",
       "      <td>3852.88</td>\n",
       "      <td>1.545000</td>\n",
       "      <td>33487.88</td>\n",
       "    </tr>\n",
       "    <tr>\n",
       "      <th>3413</th>\n",
       "      <td>8.67</td>\n",
       "      <td>36.0</td>\n",
       "      <td>35000.0</td>\n",
       "      <td>Default</td>\n",
       "      <td>7828.98</td>\n",
       "      <td>0.722500</td>\n",
       "      <td>25287.50</td>\n",
       "    </tr>\n",
       "    <tr>\n",
       "      <th>5819</th>\n",
       "      <td>24.50</td>\n",
       "      <td>60.0</td>\n",
       "      <td>35000.0</td>\n",
       "      <td>Default</td>\n",
       "      <td>20384.33</td>\n",
       "      <td>2.041667</td>\n",
       "      <td>71458.33</td>\n",
       "    </tr>\n",
       "  </tbody>\n",
       "</table>\n",
       "</div>"
      ],
      "text/plain": [
       "      int_rate  term  loan_amount loan_status  total_payment  \\\n",
       "746      12.99  36.0       8450.0     Default        1980.56   \n",
       "1464     11.44  36.0       6000.0     Default        1397.45   \n",
       "2628     18.54  36.0      21675.0     Default        3852.88   \n",
       "3413      8.67  36.0      35000.0     Default        7828.98   \n",
       "5819     24.50  60.0      35000.0     Default       20384.33   \n",
       "\n",
       "      monthly_int_rate  total_expec_full_amount  \n",
       "746           1.082500                  9147.12  \n",
       "1464          0.953333                  5720.00  \n",
       "2628          1.545000                 33487.88  \n",
       "3413          0.722500                 25287.50  \n",
       "5819          2.041667                 71458.33  "
      ]
     },
     "execution_count": 286,
     "metadata": {},
     "output_type": "execute_result"
    }
   ],
   "source": [
    "#Total Possible Revenue for the loans classed as 'Default' \n",
    "default_df['total_expec_full_amount'] = round(default_df['loan_amount']*default_df['monthly_int_rate'],2)\n",
    "default_df.head()"
   ]
  },
  {
   "cell_type": "markdown",
   "metadata": {},
   "source": [
    "- We can now work out Possible Loss of the loans marked as Default\n",
    "    - First we work out the sum of the total payments that have been received for default \n",
    "    - Then we will work out the sum of the total expected amount if the loans completed\n",
    "    - from there we can work out total possible loss "
   ]
  },
  {
   "cell_type": "code",
   "execution_count": 277,
   "metadata": {},
   "outputs": [
    {
     "name": "stdout",
     "output_type": "stream",
     "text": [
      "The total possible loss of revenue for loans marked as 'Default': £516586.57\n",
      "The total percentage loss of revenue for loans marked as 'Default': 47.03%\n"
     ]
    }
   ],
   "source": [
    "#Sum of total payments received\n",
    "sum_total_payment_default = sum(default_df['total_payment'])\n",
    "#Sum of total expected amount\n",
    "sum_total_expec_amount_default = sum(default_df['total_expec_full_amount'])\n",
    "\n",
    "#Total sum of loss\n",
    "total_revenue_loss_default = round((sum_total_expec_amount_default - sum_total_payment_default),2)\n",
    "print(f\"The total possible loss of revenue for loans marked as 'Default': £{total_revenue_loss_default}\")\n",
    "\n",
    "#Percentage Loss \n",
    "prcnt_loss_default = round((sum_total_payment_default/sum_total_expec_amount_default)*100,2)\n",
    "print(f\"The total percentage loss of revenue for loans marked as 'Default': {prcnt_loss_default}%\")"
   ]
  },
  {
   "cell_type": "markdown",
   "metadata": {},
   "source": [
    "- Now we can calculate the total expected revenue from loans marked as 'Late', 'Charged Off and 'Default"
   ]
  },
  {
   "cell_type": "code",
   "execution_count": 292,
   "metadata": {},
   "outputs": [],
   "source": [
    "#Total Revenue Expected for Late\n",
    "total_revenue_loss_late\n",
    "\n",
    "#Total Revenue Expected for Charged Off\n",
    "total_revenue_loss_charged_off\n",
    "\n",
    "#Total Revenue Expected for Default\n",
    "total_revenue_loss_default\n",
    "\n",
    "#Total Expected Revenue for all 3 categories\n",
    "total_expected_loss_revenue = total_revenue_loss_late + total_revenue_loss_charged_off + total_revenue_loss_default"
   ]
  },
  {
   "cell_type": "markdown",
   "metadata": {},
   "source": [
    "#### We also need to work out Total Expected Revenue"
   ]
  },
  {
   "cell_type": "code",
   "execution_count": 284,
   "metadata": {},
   "outputs": [
    {
     "data": {
      "text/html": [
       "<div>\n",
       "<style scoped>\n",
       "    .dataframe tbody tr th:only-of-type {\n",
       "        vertical-align: middle;\n",
       "    }\n",
       "\n",
       "    .dataframe tbody tr th {\n",
       "        vertical-align: top;\n",
       "    }\n",
       "\n",
       "    .dataframe thead th {\n",
       "        text-align: right;\n",
       "    }\n",
       "</style>\n",
       "<table border=\"1\" class=\"dataframe\">\n",
       "  <thead>\n",
       "    <tr style=\"text-align: right;\">\n",
       "      <th></th>\n",
       "      <th>int_rate</th>\n",
       "      <th>term</th>\n",
       "      <th>loan_amount</th>\n",
       "      <th>loan_status</th>\n",
       "      <th>total_payment</th>\n",
       "    </tr>\n",
       "  </thead>\n",
       "  <tbody>\n",
       "    <tr>\n",
       "      <th>0</th>\n",
       "      <td>7.49</td>\n",
       "      <td>36.0</td>\n",
       "      <td>8000.0</td>\n",
       "      <td>Current</td>\n",
       "      <td>2982.51</td>\n",
       "    </tr>\n",
       "    <tr>\n",
       "      <th>1</th>\n",
       "      <td>6.99</td>\n",
       "      <td>36.0</td>\n",
       "      <td>13200.0</td>\n",
       "      <td>Current</td>\n",
       "      <td>4885.11</td>\n",
       "    </tr>\n",
       "    <tr>\n",
       "      <th>2</th>\n",
       "      <td>7.49</td>\n",
       "      <td>36.0</td>\n",
       "      <td>16000.0</td>\n",
       "      <td>Fully Paid</td>\n",
       "      <td>16824.54</td>\n",
       "    </tr>\n",
       "    <tr>\n",
       "      <th>3</th>\n",
       "      <td>14.31</td>\n",
       "      <td>36.0</td>\n",
       "      <td>15000.0</td>\n",
       "      <td>Fully Paid</td>\n",
       "      <td>15947.47</td>\n",
       "    </tr>\n",
       "    <tr>\n",
       "      <th>4</th>\n",
       "      <td>6.03</td>\n",
       "      <td>36.0</td>\n",
       "      <td>15000.0</td>\n",
       "      <td>Current</td>\n",
       "      <td>5473.46</td>\n",
       "    </tr>\n",
       "  </tbody>\n",
       "</table>\n",
       "</div>"
      ],
      "text/plain": [
       "   int_rate  term  loan_amount loan_status  total_payment\n",
       "0      7.49  36.0       8000.0     Current        2982.51\n",
       "1      6.99  36.0      13200.0     Current        4885.11\n",
       "2      7.49  36.0      16000.0  Fully Paid       16824.54\n",
       "3     14.31  36.0      15000.0  Fully Paid       15947.47\n",
       "4      6.03  36.0      15000.0     Current        5473.46"
      ]
     },
     "execution_count": 284,
     "metadata": {},
     "output_type": "execute_result"
    }
   ],
   "source": [
    "#Columns needed for calculations\n",
    "cols_to_check = ['int_rate','term','loan_amount','loan_status', 'total_payment']\n",
    "\n",
    "#Filtering the dataframe based on chosen columns \n",
    "total_revenue_df_cols = df[cols_to_check]\n",
    "total_revenue_df = total_revenue_df_cols.copy()\n",
    "total_revenue_df.head()"
   ]
  },
  {
   "cell_type": "markdown",
   "metadata": {},
   "source": [
    "- Total Monthly interest rate for all Loans"
   ]
  },
  {
   "cell_type": "code",
   "execution_count": 285,
   "metadata": {},
   "outputs": [
    {
     "data": {
      "text/html": [
       "<div>\n",
       "<style scoped>\n",
       "    .dataframe tbody tr th:only-of-type {\n",
       "        vertical-align: middle;\n",
       "    }\n",
       "\n",
       "    .dataframe tbody tr th {\n",
       "        vertical-align: top;\n",
       "    }\n",
       "\n",
       "    .dataframe thead th {\n",
       "        text-align: right;\n",
       "    }\n",
       "</style>\n",
       "<table border=\"1\" class=\"dataframe\">\n",
       "  <thead>\n",
       "    <tr style=\"text-align: right;\">\n",
       "      <th></th>\n",
       "      <th>int_rate</th>\n",
       "      <th>term</th>\n",
       "      <th>loan_amount</th>\n",
       "      <th>loan_status</th>\n",
       "      <th>total_payment</th>\n",
       "      <th>monthly_int_rate</th>\n",
       "    </tr>\n",
       "  </thead>\n",
       "  <tbody>\n",
       "    <tr>\n",
       "      <th>0</th>\n",
       "      <td>7.49</td>\n",
       "      <td>36.0</td>\n",
       "      <td>8000.0</td>\n",
       "      <td>Current</td>\n",
       "      <td>2982.51</td>\n",
       "      <td>0.624167</td>\n",
       "    </tr>\n",
       "    <tr>\n",
       "      <th>1</th>\n",
       "      <td>6.99</td>\n",
       "      <td>36.0</td>\n",
       "      <td>13200.0</td>\n",
       "      <td>Current</td>\n",
       "      <td>4885.11</td>\n",
       "      <td>0.582500</td>\n",
       "    </tr>\n",
       "    <tr>\n",
       "      <th>2</th>\n",
       "      <td>7.49</td>\n",
       "      <td>36.0</td>\n",
       "      <td>16000.0</td>\n",
       "      <td>Fully Paid</td>\n",
       "      <td>16824.54</td>\n",
       "      <td>0.624167</td>\n",
       "    </tr>\n",
       "    <tr>\n",
       "      <th>3</th>\n",
       "      <td>14.31</td>\n",
       "      <td>36.0</td>\n",
       "      <td>15000.0</td>\n",
       "      <td>Fully Paid</td>\n",
       "      <td>15947.47</td>\n",
       "      <td>1.192500</td>\n",
       "    </tr>\n",
       "    <tr>\n",
       "      <th>4</th>\n",
       "      <td>6.03</td>\n",
       "      <td>36.0</td>\n",
       "      <td>15000.0</td>\n",
       "      <td>Current</td>\n",
       "      <td>5473.46</td>\n",
       "      <td>0.502500</td>\n",
       "    </tr>\n",
       "  </tbody>\n",
       "</table>\n",
       "</div>"
      ],
      "text/plain": [
       "   int_rate  term  loan_amount loan_status  total_payment  monthly_int_rate\n",
       "0      7.49  36.0       8000.0     Current        2982.51          0.624167\n",
       "1      6.99  36.0      13200.0     Current        4885.11          0.582500\n",
       "2      7.49  36.0      16000.0  Fully Paid       16824.54          0.624167\n",
       "3     14.31  36.0      15000.0  Fully Paid       15947.47          1.192500\n",
       "4      6.03  36.0      15000.0     Current        5473.46          0.502500"
      ]
     },
     "execution_count": 285,
     "metadata": {},
     "output_type": "execute_result"
    }
   ],
   "source": [
    "total_revenue_df['monthly_int_rate'] = total_revenue_df['int_rate']/12\n",
    "total_revenue_df.head()"
   ]
  },
  {
   "cell_type": "markdown",
   "metadata": {},
   "source": [
    "- Total expected revenue for all loans"
   ]
  },
  {
   "cell_type": "code",
   "execution_count": 287,
   "metadata": {},
   "outputs": [
    {
     "data": {
      "text/html": [
       "<div>\n",
       "<style scoped>\n",
       "    .dataframe tbody tr th:only-of-type {\n",
       "        vertical-align: middle;\n",
       "    }\n",
       "\n",
       "    .dataframe tbody tr th {\n",
       "        vertical-align: top;\n",
       "    }\n",
       "\n",
       "    .dataframe thead th {\n",
       "        text-align: right;\n",
       "    }\n",
       "</style>\n",
       "<table border=\"1\" class=\"dataframe\">\n",
       "  <thead>\n",
       "    <tr style=\"text-align: right;\">\n",
       "      <th></th>\n",
       "      <th>int_rate</th>\n",
       "      <th>term</th>\n",
       "      <th>loan_amount</th>\n",
       "      <th>loan_status</th>\n",
       "      <th>total_payment</th>\n",
       "      <th>monthly_int_rate</th>\n",
       "      <th>total_expec_revenue</th>\n",
       "    </tr>\n",
       "  </thead>\n",
       "  <tbody>\n",
       "    <tr>\n",
       "      <th>0</th>\n",
       "      <td>7.49</td>\n",
       "      <td>36.0</td>\n",
       "      <td>8000.0</td>\n",
       "      <td>Current</td>\n",
       "      <td>2982.51</td>\n",
       "      <td>0.624167</td>\n",
       "      <td>4993.33</td>\n",
       "    </tr>\n",
       "    <tr>\n",
       "      <th>1</th>\n",
       "      <td>6.99</td>\n",
       "      <td>36.0</td>\n",
       "      <td>13200.0</td>\n",
       "      <td>Current</td>\n",
       "      <td>4885.11</td>\n",
       "      <td>0.582500</td>\n",
       "      <td>7689.00</td>\n",
       "    </tr>\n",
       "    <tr>\n",
       "      <th>2</th>\n",
       "      <td>7.49</td>\n",
       "      <td>36.0</td>\n",
       "      <td>16000.0</td>\n",
       "      <td>Fully Paid</td>\n",
       "      <td>16824.54</td>\n",
       "      <td>0.624167</td>\n",
       "      <td>9986.67</td>\n",
       "    </tr>\n",
       "    <tr>\n",
       "      <th>3</th>\n",
       "      <td>14.31</td>\n",
       "      <td>36.0</td>\n",
       "      <td>15000.0</td>\n",
       "      <td>Fully Paid</td>\n",
       "      <td>15947.47</td>\n",
       "      <td>1.192500</td>\n",
       "      <td>17887.50</td>\n",
       "    </tr>\n",
       "    <tr>\n",
       "      <th>4</th>\n",
       "      <td>6.03</td>\n",
       "      <td>36.0</td>\n",
       "      <td>15000.0</td>\n",
       "      <td>Current</td>\n",
       "      <td>5473.46</td>\n",
       "      <td>0.502500</td>\n",
       "      <td>7537.50</td>\n",
       "    </tr>\n",
       "  </tbody>\n",
       "</table>\n",
       "</div>"
      ],
      "text/plain": [
       "   int_rate  term  loan_amount loan_status  total_payment  monthly_int_rate  \\\n",
       "0      7.49  36.0       8000.0     Current        2982.51          0.624167   \n",
       "1      6.99  36.0      13200.0     Current        4885.11          0.582500   \n",
       "2      7.49  36.0      16000.0  Fully Paid       16824.54          0.624167   \n",
       "3     14.31  36.0      15000.0  Fully Paid       15947.47          1.192500   \n",
       "4      6.03  36.0      15000.0     Current        5473.46          0.502500   \n",
       "\n",
       "   total_expec_revenue  \n",
       "0              4993.33  \n",
       "1              7689.00  \n",
       "2              9986.67  \n",
       "3             17887.50  \n",
       "4              7537.50  "
      ]
     },
     "execution_count": 287,
     "metadata": {},
     "output_type": "execute_result"
    }
   ],
   "source": [
    "#Total Possible Revenue for the loans classed as 'Default' \n",
    "total_revenue_df['total_expec_revenue'] = round(total_revenue_df['loan_amount']*total_revenue_df['monthly_int_rate'],2)\n",
    "total_revenue_df.head()"
   ]
  },
  {
   "cell_type": "markdown",
   "metadata": {},
   "source": [
    "- Now we can work out total expected revenue"
   ]
  },
  {
   "cell_type": "code",
   "execution_count": 291,
   "metadata": {},
   "outputs": [],
   "source": [
    "#Sum of total expected revenue\n",
    "sum_total_expec_revenue = sum(total_revenue_df['total_expec_revenue'])"
   ]
  },
  {
   "cell_type": "markdown",
   "metadata": {},
   "source": [
    "#### Now we can calculate the percentage of these loans with regards to total expected revenue"
   ]
  },
  {
   "cell_type": "code",
   "execution_count": 297,
   "metadata": {},
   "outputs": [
    {
     "name": "stdout",
     "output_type": "stream",
     "text": [
      "Total percentage of loans with Default, Charged off and Late as a percentage of total: 8.65%\n"
     ]
    }
   ],
   "source": [
    "prcnt_loss_loans = round((total_expected_loss_revenue/sum_total_expec_revenue)*100,2)\n",
    "print(f\"Total percentage of loans with Default, Charged off and Late as a percentage of total: {prcnt_loss_loans}%\")"
   ]
  },
  {
   "cell_type": "markdown",
   "metadata": {},
   "source": [
    "### Task 5 - Indicators of Loss"
   ]
  },
  {
   "cell_type": "markdown",
   "metadata": {},
   "source": [
    "- To find some indicators as to what may indicate a customer is not able to pay for the loan, we can compare some columns and see if they have a relationship.\n",
    "- We want to compare columns for those customers who have already stopped paying and customers who are behind on payments with other columns\n",
    "- we will look at the 'grade', 'purpose' and 'home_ownership' to see if there any relationship\n"
   ]
  },
  {
   "cell_type": "markdown",
   "metadata": {},
   "source": [
    "- Subset of users who have already stopped paying and who are behind on payments"
   ]
  },
  {
   "cell_type": "code",
   "execution_count": 329,
   "metadata": {},
   "outputs": [],
   "source": [
    "#Charged off Dataframe\n",
    "charged_off_df = df['loan_status'].str.contains('Charged Off', case=False)\n",
    "charged_off_df = df[charged_off_df]\n",
    "\n",
    "#Default Dataframe\n",
    "default_df = df['loan_status'].str.contains('Default', case=False)\n",
    "default_df = df[default_df]\n",
    "\n",
    "#Late Dataframe\n",
    "late_df = df['loan_status'].str.contains('Late', case=False)\n",
    "late_df = df[late_df]"
   ]
  },
  {
   "cell_type": "markdown",
   "metadata": {},
   "source": [
    "- We are testing on the following indicators to see chances of customer not paying their loan:\n",
    "    - grade\n",
    "    - purpose\n",
    "    - home_ownership"
   ]
  },
  {
   "cell_type": "markdown",
   "metadata": {},
   "source": [
    "- we will use a bar chart to compare the different distributions"
   ]
  },
  {
   "cell_type": "code",
   "execution_count": 330,
   "metadata": {},
   "outputs": [],
   "source": [
    "import seaborn as sns \n",
    "import matplotlib.pyplot as plt"
   ]
  },
  {
   "cell_type": "markdown",
   "metadata": {},
   "source": [
    "#### Loan Grade"
   ]
  },
  {
   "cell_type": "markdown",
   "metadata": {},
   "source": [
    "- Bar chart representation for loans with loan_status 'Late', 'Default', 'Charged off'"
   ]
  },
  {
   "cell_type": "code",
   "execution_count": 357,
   "metadata": {},
   "outputs": [
    {
     "data": {
      "image/png": "[encoded data removed]",
      "text/plain": [
       "<Figure size 640x480 with 1 Axes>"
      ]
     },
     "metadata": {},
     "output_type": "display_data"
    },
    {
     "data": {
      "image/png": "[encoded data removed]",
      "text/plain": [
       "<Figure size 640x480 with 1 Axes>"
      ]
     },
     "metadata": {},
     "output_type": "display_data"
    },
    {
     "data": {
      "image/png": "[encoded data removed]",
      "text/plain": [
       "<Figure size 640x480 with 1 Axes>"
      ]
     },
     "metadata": {},
     "output_type": "display_data"
    }
   ],
   "source": [
    "#Bar chart preparation for distribution with 'grade'\n",
    "x = 'grade'\n",
    "data = late_df\n",
    "order = late_df[x].value_counts().index\n",
    "\n",
    "#Plot Bar chart for late Loans\n",
    "sns.countplot(x=x, data=late_df, order=order)\n",
    "plt.title(\"Loan Grade Distribution for Late Loans\")\n",
    "plt.show()\n",
    "\n",
    "#Plot Bar chart for charged off Loans\n",
    "sns.countplot(x=x, data=charged_off_df, order=order)\n",
    "plt.title(\"Loan Grade Distribution for Charged Off Loans\")\n",
    "plt.show()\n",
    "\n",
    "#Plot Bar chart for default Loans\n",
    "sns.countplot(x=x, data=default_df, order=order)\n",
    "plt.title(\"Loan Grade Distribution for Default Loans\")\n",
    "plt.show()\n",
    "\n"
   ]
  },
  {
   "cell_type": "markdown",
   "metadata": {},
   "source": [
    "##### Analysis of Grade on Loan:\n",
    "\n",
    "- From the distribution of all loans, we can see that the loans with loan_status classified as Late, Charged Off and Default has a consistent trend with the loan_grade. \n",
    "    - We can see that the grades B,C,D always have the highest count in each of these 3 categories\n",
    "    - This means loans in this grade are always late, have been classed off as Charged off or end up as default loans\n",
    "    - These are followed by E and F while Grades A and G have a similar lower count.\n",
    "    - This shows that the middle ranges of grades between B and F have the highest risk of loans of customers not being able to pay it back.\n",
    "\n",
    "- Does the grade of the loan have an effect on whether the customer will repay the loan?\n",
    "    - So the grade does seem to have an effect on whether the customer will repay, as the loans with middle grades between B and D are less likely to pay the loan back.\n"
   ]
  },
  {
   "cell_type": "markdown",
   "metadata": {},
   "source": [
    "#### Loan Purpose"
   ]
  },
  {
   "cell_type": "code",
   "execution_count": 360,
   "metadata": {},
   "outputs": [
    {
     "data": {
      "image/png": "[encoded data removed]",
      "text/plain": [
       "<Figure size 640x480 with 1 Axes>"
      ]
     },
     "metadata": {},
     "output_type": "display_data"
    },
    {
     "data": {
      "image/png": "[encoded data removed]",
      "text/plain": [
       "<Figure size 640x480 with 1 Axes>"
      ]
     },
     "metadata": {},
     "output_type": "display_data"
    },
    {
     "data": {
      "image/png": "[encoded data removed]",
      "text/plain": [
       "<Figure size 640x480 with 1 Axes>"
      ]
     },
     "metadata": {},
     "output_type": "display_data"
    }
   ],
   "source": [
    "#Bar chart preparation for distribution with 'purpose'\n",
    "x = 'purpose'\n",
    "data = late_df\n",
    "order = late_df[x].value_counts().index\n",
    "\n",
    "#Plot Bar chart for late Loans\n",
    "sns.countplot(x=x, data=late_df, order=order)\n",
    "plt.title(\"Loan Purpose Distribution for Late Loans\")\n",
    "plt.xticks(rotation=90, ha='right')\n",
    "plt.show()\n",
    "\n",
    "#Plot Bar chart for charged off Loans\n",
    "sns.countplot(x=x, data=charged_off_df, order=order)\n",
    "plt.title(\"Loan Purpose Distribution for Charged Off Loans\")\n",
    "plt.xticks(rotation=90, ha='right')\n",
    "plt.show()\n",
    "\n",
    "#Plot Bar chart for default Loans\n",
    "sns.countplot(x=x, data=default_df, order=order)\n",
    "plt.title(\"Loan Purpose Distribution for Default Loans\")\n",
    "plt.xticks(rotation=90, ha='right')\n",
    "plt.show()"
   ]
  },
  {
   "cell_type": "markdown",
   "metadata": {},
   "source": [
    "##### Analysis of Purpose on Loan:\n",
    "\n",
    "- From the distribution of all loans, we can see that the loans with loan_status classified as Late, Charged Off and Default has a consistent trend with the loan purpose. \n",
    "    - We can see that the 2 main categories are 'debt_consolidation' and 'credit_card' for the purpose of the loan\n",
    "    - Other purposes can be seen as insignificant.\n",
    "    - The distribution clearly shows that the purpose of 'debt_consolidation' has by far the highest count in all 3 categories\n",
    "    - This means loans for this purpose are always late, have been classed off as Charged off or end up as a default loan.\n",
    "    - This means that 'debt_consolidation' have the highest risk of loans of customers not being able to pay it back.\n",
    "\n",
    "- Does the Loan Purpose of the loan have an effect on whether the customer will repay the loan?\n",
    "    - So the purpose does seem to have an effect on whether the customer will repay, as the loans with 'debt_consolidation' purpose are less likely to pay the loan back.\n"
   ]
  },
  {
   "cell_type": "markdown",
   "metadata": {},
   "source": [
    "#### Home Ownership"
   ]
  },
  {
   "cell_type": "code",
   "execution_count": 354,
   "metadata": {},
   "outputs": [
    {
     "data": {
      "image/png": "[encoded data removed]",
      "text/plain": [
       "<Figure size 640x480 with 1 Axes>"
      ]
     },
     "metadata": {},
     "output_type": "display_data"
    },
    {
     "data": {
      "image/png": "[encoded data removed]",
      "text/plain": [
       "<Figure size 640x480 with 1 Axes>"
      ]
     },
     "metadata": {},
     "output_type": "display_data"
    },
    {
     "data": {
      "image/png": "[encoded data removed]",
      "text/plain": [
       "<Figure size 640x480 with 1 Axes>"
      ]
     },
     "metadata": {},
     "output_type": "display_data"
    }
   ],
   "source": [
    "#Bar chart preparation for distribution with 'home_ownership'\n",
    "x = 'home_ownership'\n",
    "data = late_df\n",
    "order = late_df[x].value_counts().index\n",
    "\n",
    "#Plot Bar chart for late Loans\n",
    "sns.countplot(x=x, data=late_df, order=order)\n",
    "plt.title(\"Home Ownership Distribution for Late Loans\")\n",
    "plt.show()\n",
    "\n",
    "#Plot Bar chart for charged off Loans\n",
    "sns.countplot(x=x, data=charged_off_df, order=order)\n",
    "plt.title(\"Home Ownership Distribution for Charged Off Loans\")\n",
    "plt.show()\n",
    "\n",
    "#Plot Bar chart for default Loans\n",
    "sns.countplot(x=x, data=default_df, order=order)\n",
    "plt.title(\"Home Ownership Distribution for Default Loans\")\n",
    "plt.show()"
   ]
  },
  {
   "cell_type": "markdown",
   "metadata": {},
   "source": [
    "##### Analysis of Home Ownserhip on Loan:\n",
    "\n",
    "- From the distribution of all loans, we can see that the loans with loan_status classified as Late, Charged Off and Default has a consistent trend with the Home Ownership\n",
    "    - We can see that the 2 main categories in home ownership are 'mortgage' and 'rent' for home ownership type.\n",
    "    - The distribution shows that the home ownership type of 'mortgage' and 'rent' have the highest count in all 3 categories\n",
    "    - This means loans with this home ownership type are always late, have been classed off as Charged off or end up as a default loan.\n",
    "\n",
    "- Does the Home Ownership type of the loan have an effect on whether the customer will repay the loan?\n",
    "    - So the Home ownership type does seem to have an effect on whether the customer will repay, as the loans with home ownership type as 'Mortgage' and 'Rent' seem to have the loans with customers who are less likely to pay the loan back.\n",
    "    - However, since majority of the customers will be of these 2 types, this doesn't give a clear indiciation of the customers that will not be able to pay the loan back, based off home ownership type alone."
   ]
  },
  {
   "cell_type": "markdown",
   "metadata": {},
   "source": []
  }
 ],
 "metadata": {
  "kernelspec": {
   "display_name": "base",
   "language": "python",
   "name": "python3"
  },
  "language_info": {
   "codemirror_mode": {
    "name": "ipython",
    "version": 3
   },
   "file_extension": ".py",
   "mimetype": "text/x-python",
   "name": "python",
   "nbconvert_exporter": "python",
   "pygments_lexer": "ipython3",
   "version": "3.12.3"
  }
 },
 "nbformat": 4,
 "nbformat_minor": 2
}
